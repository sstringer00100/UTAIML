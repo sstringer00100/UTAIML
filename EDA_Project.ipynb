{
  "nbformat": 4,
  "nbformat_minor": 0,
  "metadata": {
    "colab": {
      "name": "Cardio_Good_Fitness_Project.ipynb",
      "provenance": [],
      "collapsed_sections": [],
      "toc_visible": true
    },
    "kernelspec": {
      "display_name": "Python 3",
      "language": "python",
      "name": "python3"
    },
    "language_info": {
      "codemirror_mode": {
        "name": "ipython",
        "version": 3
      },
      "file_extension": ".py",
      "mimetype": "text/x-python",
      "name": "python",
      "nbconvert_exporter": "python",
      "pygments_lexer": "ipython3",
      "version": "3.8.8"
    }
  },
  "cells": [
    {
      "cell_type": "markdown",
      "metadata": {
        "id": "nA5sAtnh_cAQ"
      },
      "source": [
        "# Cardio Good Fitness Project"
      ]
    },
    {
      "cell_type": "markdown",
      "metadata": {
        "id": "qW_vGiplcmKj"
      },
      "source": [
        "## Objective: \n",
        "\n",
        "* Come up with a customer profile (characteristics of a customer) of the different products\n",
        "* Perform univariate and multivariate analysis\n",
        "* Generate a set of insights and recommendations that will help the company in targeting new customers\n",
        "\n",
        "\n",
        "## Data:\n",
        "The data is about customers of the treadmill product(s) of a retail store called Cardio Good Fitness. It contains the following variables-\n",
        "\n",
        "* Product - The model no. of the treadmill\n",
        "* Gender - Gender of the customer\n",
        "* Education - Education of the customer in no. of years\n",
        "* Marital Status - Marital status of the customer\n",
        "* Usage - Avg. # times the customer wants to use the treadmill every week\n",
        "* Fitness - Self rated fitness score of the customer (5 - very fit, 1 - very unfit)\n",
        "* Income - Income of the customer\n",
        "* Miles- Miles that a customer expects to run"
      ]
    },
    {
      "cell_type": "markdown",
      "metadata": {
        "id": "4UBYyPT3DGwM"
      },
      "source": [
        "## Importing Libraries and Setting Up "
      ]
    },
    {
      "cell_type": "code",
      "metadata": {
        "id": "khkB4YCHAkgD"
      },
      "source": [
        "# Import libraries for analysis\n",
        "import pandas as pd\n",
        "import seaborn as sns\n",
        "import matplotlib.pyplot as plt\n",
        "sns.set(color_codes=True) # used for nicer overlay in plots\n",
        "# enable inline plots in jupyter\n",
        "%matplotlib inline \n",
        "import warnings\n",
        "warnings.filterwarnings('ignore') # supresses the warnings"
      ],
      "execution_count": 1,
      "outputs": []
    },
    {
      "cell_type": "code",
      "metadata": {
        "colab": {
          "base_uri": "https://localhost:8080/"
        },
        "id": "n5qtq4TRB9ac",
        "outputId": "e7affa14-bbd1-4ad6-d449-7bef03948184"
      },
      "source": [
        "# How to import from Google drive into Google Colab\n",
        "from google.colab import drive \n",
        "drive.mount('/content/drive')"
      ],
      "execution_count": 2,
      "outputs": [
        {
          "output_type": "stream",
          "name": "stdout",
          "text": [
            "Mounted at /content/drive\n"
          ]
        }
      ]
    },
    {
      "cell_type": "code",
      "metadata": {
        "colab": {
          "base_uri": "https://localhost:8080/"
        },
        "id": "Md3IhrONCM1k",
        "outputId": "c382bc84-4874-490c-f268-ddf36bdf6e7c"
      },
      "source": [
        "# Changes the working directory to my Google Drive\n",
        "# had to escape the blanks with \\ symbols\n",
        "%cd /content/drive/My\\ Drive/UT\\ AIML/Fundamentals\\ of\\ AIML/ "
      ],
      "execution_count": 3,
      "outputs": [
        {
          "output_type": "stream",
          "name": "stdout",
          "text": [
            "/content/drive/My Drive/UT AIML/Fundamentals of AIML\n"
          ]
        }
      ]
    },
    {
      "cell_type": "code",
      "metadata": {
        "id": "i4XgScFOCRkL"
      },
      "source": [
        "# Read the data using pandas\n",
        "cardio = pd.read_csv('CardioGoodFitness.csv')"
      ],
      "execution_count": 4,
      "outputs": []
    },
    {
      "cell_type": "markdown",
      "metadata": {
        "id": "WEa8t2s1e7ed"
      },
      "source": [
        "## View the first and last 5 rows of the dataset."
      ]
    },
    {
      "cell_type": "code",
      "metadata": {
        "colab": {
          "base_uri": "https://localhost:8080/",
          "height": 206
        },
        "id": "kXearpRYHKMk",
        "outputId": "07a142b1-8f0a-4ddb-c996-f878d9cbc678"
      },
      "source": [
        "# View the first five rows of data\n",
        "cardio.head()"
      ],
      "execution_count": 5,
      "outputs": [
        {
          "output_type": "execute_result",
          "data": {
            "text/html": [
              "\n",
              "  <div id=\"df-095d6a11-4f78-49df-bfd3-85cdaa213deb\">\n",
              "    <div class=\"colab-df-container\">\n",
              "      <div>\n",
              "<style scoped>\n",
              "    .dataframe tbody tr th:only-of-type {\n",
              "        vertical-align: middle;\n",
              "    }\n",
              "\n",
              "    .dataframe tbody tr th {\n",
              "        vertical-align: top;\n",
              "    }\n",
              "\n",
              "    .dataframe thead th {\n",
              "        text-align: right;\n",
              "    }\n",
              "</style>\n",
              "<table border=\"1\" class=\"dataframe\">\n",
              "  <thead>\n",
              "    <tr style=\"text-align: right;\">\n",
              "      <th></th>\n",
              "      <th>Product</th>\n",
              "      <th>Age</th>\n",
              "      <th>Gender</th>\n",
              "      <th>Education</th>\n",
              "      <th>MaritalStatus</th>\n",
              "      <th>Usage</th>\n",
              "      <th>Fitness</th>\n",
              "      <th>Income</th>\n",
              "      <th>Miles</th>\n",
              "    </tr>\n",
              "  </thead>\n",
              "  <tbody>\n",
              "    <tr>\n",
              "      <th>0</th>\n",
              "      <td>TM195</td>\n",
              "      <td>18</td>\n",
              "      <td>Male</td>\n",
              "      <td>14</td>\n",
              "      <td>Single</td>\n",
              "      <td>3</td>\n",
              "      <td>4</td>\n",
              "      <td>29562</td>\n",
              "      <td>112</td>\n",
              "    </tr>\n",
              "    <tr>\n",
              "      <th>1</th>\n",
              "      <td>TM195</td>\n",
              "      <td>19</td>\n",
              "      <td>Male</td>\n",
              "      <td>15</td>\n",
              "      <td>Single</td>\n",
              "      <td>2</td>\n",
              "      <td>3</td>\n",
              "      <td>31836</td>\n",
              "      <td>75</td>\n",
              "    </tr>\n",
              "    <tr>\n",
              "      <th>2</th>\n",
              "      <td>TM195</td>\n",
              "      <td>19</td>\n",
              "      <td>Female</td>\n",
              "      <td>14</td>\n",
              "      <td>Partnered</td>\n",
              "      <td>4</td>\n",
              "      <td>3</td>\n",
              "      <td>30699</td>\n",
              "      <td>66</td>\n",
              "    </tr>\n",
              "    <tr>\n",
              "      <th>3</th>\n",
              "      <td>TM195</td>\n",
              "      <td>19</td>\n",
              "      <td>Male</td>\n",
              "      <td>12</td>\n",
              "      <td>Single</td>\n",
              "      <td>3</td>\n",
              "      <td>3</td>\n",
              "      <td>32973</td>\n",
              "      <td>85</td>\n",
              "    </tr>\n",
              "    <tr>\n",
              "      <th>4</th>\n",
              "      <td>TM195</td>\n",
              "      <td>20</td>\n",
              "      <td>Male</td>\n",
              "      <td>13</td>\n",
              "      <td>Partnered</td>\n",
              "      <td>4</td>\n",
              "      <td>2</td>\n",
              "      <td>35247</td>\n",
              "      <td>47</td>\n",
              "    </tr>\n",
              "  </tbody>\n",
              "</table>\n",
              "</div>\n",
              "      <button class=\"colab-df-convert\" onclick=\"convertToInteractive('df-095d6a11-4f78-49df-bfd3-85cdaa213deb')\"\n",
              "              title=\"Convert this dataframe to an interactive table.\"\n",
              "              style=\"display:none;\">\n",
              "        \n",
              "  <svg xmlns=\"http://www.w3.org/2000/svg\" height=\"24px\"viewBox=\"0 0 24 24\"\n",
              "       width=\"24px\">\n",
              "    <path d=\"M0 0h24v24H0V0z\" fill=\"none\"/>\n",
              "    <path d=\"M18.56 5.44l.94 2.06.94-2.06 2.06-.94-2.06-.94-.94-2.06-.94 2.06-2.06.94zm-11 1L8.5 8.5l.94-2.06 2.06-.94-2.06-.94L8.5 2.5l-.94 2.06-2.06.94zm10 10l.94 2.06.94-2.06 2.06-.94-2.06-.94-.94-2.06-.94 2.06-2.06.94z\"/><path d=\"M17.41 7.96l-1.37-1.37c-.4-.4-.92-.59-1.43-.59-.52 0-1.04.2-1.43.59L10.3 9.45l-7.72 7.72c-.78.78-.78 2.05 0 2.83L4 21.41c.39.39.9.59 1.41.59.51 0 1.02-.2 1.41-.59l7.78-7.78 2.81-2.81c.8-.78.8-2.07 0-2.86zM5.41 20L4 18.59l7.72-7.72 1.47 1.35L5.41 20z\"/>\n",
              "  </svg>\n",
              "      </button>\n",
              "      \n",
              "  <style>\n",
              "    .colab-df-container {\n",
              "      display:flex;\n",
              "      flex-wrap:wrap;\n",
              "      gap: 12px;\n",
              "    }\n",
              "\n",
              "    .colab-df-convert {\n",
              "      background-color: #E8F0FE;\n",
              "      border: none;\n",
              "      border-radius: 50%;\n",
              "      cursor: pointer;\n",
              "      display: none;\n",
              "      fill: #1967D2;\n",
              "      height: 32px;\n",
              "      padding: 0 0 0 0;\n",
              "      width: 32px;\n",
              "    }\n",
              "\n",
              "    .colab-df-convert:hover {\n",
              "      background-color: #E2EBFA;\n",
              "      box-shadow: 0px 1px 2px rgba(60, 64, 67, 0.3), 0px 1px 3px 1px rgba(60, 64, 67, 0.15);\n",
              "      fill: #174EA6;\n",
              "    }\n",
              "\n",
              "    [theme=dark] .colab-df-convert {\n",
              "      background-color: #3B4455;\n",
              "      fill: #D2E3FC;\n",
              "    }\n",
              "\n",
              "    [theme=dark] .colab-df-convert:hover {\n",
              "      background-color: #434B5C;\n",
              "      box-shadow: 0px 1px 3px 1px rgba(0, 0, 0, 0.15);\n",
              "      filter: drop-shadow(0px 1px 2px rgba(0, 0, 0, 0.3));\n",
              "      fill: #FFFFFF;\n",
              "    }\n",
              "  </style>\n",
              "\n",
              "      <script>\n",
              "        const buttonEl =\n",
              "          document.querySelector('#df-095d6a11-4f78-49df-bfd3-85cdaa213deb button.colab-df-convert');\n",
              "        buttonEl.style.display =\n",
              "          google.colab.kernel.accessAllowed ? 'block' : 'none';\n",
              "\n",
              "        async function convertToInteractive(key) {\n",
              "          const element = document.querySelector('#df-095d6a11-4f78-49df-bfd3-85cdaa213deb');\n",
              "          const dataTable =\n",
              "            await google.colab.kernel.invokeFunction('convertToInteractive',\n",
              "                                                     [key], {});\n",
              "          if (!dataTable) return;\n",
              "\n",
              "          const docLinkHtml = 'Like what you see? Visit the ' +\n",
              "            '<a target=\"_blank\" href=https://colab.research.google.com/notebooks/data_table.ipynb>data table notebook</a>'\n",
              "            + ' to learn more about interactive tables.';\n",
              "          element.innerHTML = '';\n",
              "          dataTable['output_type'] = 'display_data';\n",
              "          await google.colab.output.renderOutput(dataTable, element);\n",
              "          const docLink = document.createElement('div');\n",
              "          docLink.innerHTML = docLinkHtml;\n",
              "          element.appendChild(docLink);\n",
              "        }\n",
              "      </script>\n",
              "    </div>\n",
              "  </div>\n",
              "  "
            ],
            "text/plain": [
              "  Product  Age  Gender  Education MaritalStatus  Usage  Fitness  Income  Miles\n",
              "0   TM195   18    Male         14        Single      3        4   29562    112\n",
              "1   TM195   19    Male         15        Single      2        3   31836     75\n",
              "2   TM195   19  Female         14     Partnered      4        3   30699     66\n",
              "3   TM195   19    Male         12        Single      3        3   32973     85\n",
              "4   TM195   20    Male         13     Partnered      4        2   35247     47"
            ]
          },
          "metadata": {},
          "execution_count": 5
        }
      ]
    },
    {
      "cell_type": "code",
      "metadata": {
        "id": "ptCHxUt8e2f-",
        "colab": {
          "base_uri": "https://localhost:8080/",
          "height": 206
        },
        "outputId": "330ace7a-5a1e-4459-dd5d-da7451472eae"
      },
      "source": [
        "# View the last five rows of data\n",
        "cardio.tail()"
      ],
      "execution_count": 6,
      "outputs": [
        {
          "output_type": "execute_result",
          "data": {
            "text/html": [
              "\n",
              "  <div id=\"df-ca471f92-ec31-4fbb-9523-765e81f8ddf1\">\n",
              "    <div class=\"colab-df-container\">\n",
              "      <div>\n",
              "<style scoped>\n",
              "    .dataframe tbody tr th:only-of-type {\n",
              "        vertical-align: middle;\n",
              "    }\n",
              "\n",
              "    .dataframe tbody tr th {\n",
              "        vertical-align: top;\n",
              "    }\n",
              "\n",
              "    .dataframe thead th {\n",
              "        text-align: right;\n",
              "    }\n",
              "</style>\n",
              "<table border=\"1\" class=\"dataframe\">\n",
              "  <thead>\n",
              "    <tr style=\"text-align: right;\">\n",
              "      <th></th>\n",
              "      <th>Product</th>\n",
              "      <th>Age</th>\n",
              "      <th>Gender</th>\n",
              "      <th>Education</th>\n",
              "      <th>MaritalStatus</th>\n",
              "      <th>Usage</th>\n",
              "      <th>Fitness</th>\n",
              "      <th>Income</th>\n",
              "      <th>Miles</th>\n",
              "    </tr>\n",
              "  </thead>\n",
              "  <tbody>\n",
              "    <tr>\n",
              "      <th>175</th>\n",
              "      <td>TM798</td>\n",
              "      <td>40</td>\n",
              "      <td>Male</td>\n",
              "      <td>21</td>\n",
              "      <td>Single</td>\n",
              "      <td>6</td>\n",
              "      <td>5</td>\n",
              "      <td>83416</td>\n",
              "      <td>200</td>\n",
              "    </tr>\n",
              "    <tr>\n",
              "      <th>176</th>\n",
              "      <td>TM798</td>\n",
              "      <td>42</td>\n",
              "      <td>Male</td>\n",
              "      <td>18</td>\n",
              "      <td>Single</td>\n",
              "      <td>5</td>\n",
              "      <td>4</td>\n",
              "      <td>89641</td>\n",
              "      <td>200</td>\n",
              "    </tr>\n",
              "    <tr>\n",
              "      <th>177</th>\n",
              "      <td>TM798</td>\n",
              "      <td>45</td>\n",
              "      <td>Male</td>\n",
              "      <td>16</td>\n",
              "      <td>Single</td>\n",
              "      <td>5</td>\n",
              "      <td>5</td>\n",
              "      <td>90886</td>\n",
              "      <td>160</td>\n",
              "    </tr>\n",
              "    <tr>\n",
              "      <th>178</th>\n",
              "      <td>TM798</td>\n",
              "      <td>47</td>\n",
              "      <td>Male</td>\n",
              "      <td>18</td>\n",
              "      <td>Partnered</td>\n",
              "      <td>4</td>\n",
              "      <td>5</td>\n",
              "      <td>104581</td>\n",
              "      <td>120</td>\n",
              "    </tr>\n",
              "    <tr>\n",
              "      <th>179</th>\n",
              "      <td>TM798</td>\n",
              "      <td>48</td>\n",
              "      <td>Male</td>\n",
              "      <td>18</td>\n",
              "      <td>Partnered</td>\n",
              "      <td>4</td>\n",
              "      <td>5</td>\n",
              "      <td>95508</td>\n",
              "      <td>180</td>\n",
              "    </tr>\n",
              "  </tbody>\n",
              "</table>\n",
              "</div>\n",
              "      <button class=\"colab-df-convert\" onclick=\"convertToInteractive('df-ca471f92-ec31-4fbb-9523-765e81f8ddf1')\"\n",
              "              title=\"Convert this dataframe to an interactive table.\"\n",
              "              style=\"display:none;\">\n",
              "        \n",
              "  <svg xmlns=\"http://www.w3.org/2000/svg\" height=\"24px\"viewBox=\"0 0 24 24\"\n",
              "       width=\"24px\">\n",
              "    <path d=\"M0 0h24v24H0V0z\" fill=\"none\"/>\n",
              "    <path d=\"M18.56 5.44l.94 2.06.94-2.06 2.06-.94-2.06-.94-.94-2.06-.94 2.06-2.06.94zm-11 1L8.5 8.5l.94-2.06 2.06-.94-2.06-.94L8.5 2.5l-.94 2.06-2.06.94zm10 10l.94 2.06.94-2.06 2.06-.94-2.06-.94-.94-2.06-.94 2.06-2.06.94z\"/><path d=\"M17.41 7.96l-1.37-1.37c-.4-.4-.92-.59-1.43-.59-.52 0-1.04.2-1.43.59L10.3 9.45l-7.72 7.72c-.78.78-.78 2.05 0 2.83L4 21.41c.39.39.9.59 1.41.59.51 0 1.02-.2 1.41-.59l7.78-7.78 2.81-2.81c.8-.78.8-2.07 0-2.86zM5.41 20L4 18.59l7.72-7.72 1.47 1.35L5.41 20z\"/>\n",
              "  </svg>\n",
              "      </button>\n",
              "      \n",
              "  <style>\n",
              "    .colab-df-container {\n",
              "      display:flex;\n",
              "      flex-wrap:wrap;\n",
              "      gap: 12px;\n",
              "    }\n",
              "\n",
              "    .colab-df-convert {\n",
              "      background-color: #E8F0FE;\n",
              "      border: none;\n",
              "      border-radius: 50%;\n",
              "      cursor: pointer;\n",
              "      display: none;\n",
              "      fill: #1967D2;\n",
              "      height: 32px;\n",
              "      padding: 0 0 0 0;\n",
              "      width: 32px;\n",
              "    }\n",
              "\n",
              "    .colab-df-convert:hover {\n",
              "      background-color: #E2EBFA;\n",
              "      box-shadow: 0px 1px 2px rgba(60, 64, 67, 0.3), 0px 1px 3px 1px rgba(60, 64, 67, 0.15);\n",
              "      fill: #174EA6;\n",
              "    }\n",
              "\n",
              "    [theme=dark] .colab-df-convert {\n",
              "      background-color: #3B4455;\n",
              "      fill: #D2E3FC;\n",
              "    }\n",
              "\n",
              "    [theme=dark] .colab-df-convert:hover {\n",
              "      background-color: #434B5C;\n",
              "      box-shadow: 0px 1px 3px 1px rgba(0, 0, 0, 0.15);\n",
              "      filter: drop-shadow(0px 1px 2px rgba(0, 0, 0, 0.3));\n",
              "      fill: #FFFFFF;\n",
              "    }\n",
              "  </style>\n",
              "\n",
              "      <script>\n",
              "        const buttonEl =\n",
              "          document.querySelector('#df-ca471f92-ec31-4fbb-9523-765e81f8ddf1 button.colab-df-convert');\n",
              "        buttonEl.style.display =\n",
              "          google.colab.kernel.accessAllowed ? 'block' : 'none';\n",
              "\n",
              "        async function convertToInteractive(key) {\n",
              "          const element = document.querySelector('#df-ca471f92-ec31-4fbb-9523-765e81f8ddf1');\n",
              "          const dataTable =\n",
              "            await google.colab.kernel.invokeFunction('convertToInteractive',\n",
              "                                                     [key], {});\n",
              "          if (!dataTable) return;\n",
              "\n",
              "          const docLinkHtml = 'Like what you see? Visit the ' +\n",
              "            '<a target=\"_blank\" href=https://colab.research.google.com/notebooks/data_table.ipynb>data table notebook</a>'\n",
              "            + ' to learn more about interactive tables.';\n",
              "          element.innerHTML = '';\n",
              "          dataTable['output_type'] = 'display_data';\n",
              "          await google.colab.output.renderOutput(dataTable, element);\n",
              "          const docLink = document.createElement('div');\n",
              "          docLink.innerHTML = docLinkHtml;\n",
              "          element.appendChild(docLink);\n",
              "        }\n",
              "      </script>\n",
              "    </div>\n",
              "  </div>\n",
              "  "
            ],
            "text/plain": [
              "    Product  Age Gender  Education MaritalStatus  Usage  Fitness  Income  Miles\n",
              "175   TM798   40   Male         21        Single      6        5   83416    200\n",
              "176   TM798   42   Male         18        Single      5        4   89641    200\n",
              "177   TM798   45   Male         16        Single      5        5   90886    160\n",
              "178   TM798   47   Male         18     Partnered      4        5  104581    120\n",
              "179   TM798   48   Male         18     Partnered      4        5   95508    180"
            ]
          },
          "metadata": {},
          "execution_count": 6
        }
      ]
    },
    {
      "cell_type": "markdown",
      "metadata": {
        "id": "70EYleNMOgm1"
      },
      "source": [
        "Looking at the first few rows of data shows us we have motly numerical data, but also some categorical data as well. "
      ]
    },
    {
      "cell_type": "markdown",
      "metadata": {
        "id": "zx-MPq44AJza"
      },
      "source": [
        "## Understanding the structure of the data"
      ]
    },
    {
      "cell_type": "code",
      "metadata": {
        "colab": {
          "base_uri": "https://localhost:8080/"
        },
        "id": "_aHi5XUTDkHM",
        "outputId": "62b326f4-ea9b-4d04-8672-8445e8d8b5e4"
      },
      "source": [
        "# Check for columns and rows\n",
        "cardio.shape"
      ],
      "execution_count": 7,
      "outputs": [
        {
          "output_type": "execute_result",
          "data": {
            "text/plain": [
              "(180, 9)"
            ]
          },
          "metadata": {},
          "execution_count": 7
        }
      ]
    },
    {
      "cell_type": "markdown",
      "metadata": {
        "id": "tS9jN6CnDwFc"
      },
      "source": [
        "The dataset contains 180 rows and 9 columns."
      ]
    },
    {
      "cell_type": "code",
      "metadata": {
        "colab": {
          "base_uri": "https://localhost:8080/"
        },
        "id": "biN8Q284D2tc",
        "outputId": "095db2ea-7b51-449d-e1ce-b59c8107f373"
      },
      "source": [
        "# Print the column names\n",
        "print(cardio.columns)"
      ],
      "execution_count": 8,
      "outputs": [
        {
          "output_type": "stream",
          "name": "stdout",
          "text": [
            "Index(['Product', 'Age', 'Gender', 'Education', 'MaritalStatus', 'Usage',\n",
            "       'Fitness', 'Income', 'Miles'],\n",
            "      dtype='object')\n"
          ]
        }
      ]
    },
    {
      "cell_type": "code",
      "metadata": {
        "colab": {
          "base_uri": "https://localhost:8080/"
        },
        "id": "4NmJUZKIEfNp",
        "outputId": "bd3ea29d-23e8-4154-e27c-e5258dc650ad"
      },
      "source": [
        "# View the data types and basic information\n",
        "cardio.info()"
      ],
      "execution_count": 9,
      "outputs": [
        {
          "output_type": "stream",
          "name": "stdout",
          "text": [
            "<class 'pandas.core.frame.DataFrame'>\n",
            "RangeIndex: 180 entries, 0 to 179\n",
            "Data columns (total 9 columns):\n",
            " #   Column         Non-Null Count  Dtype \n",
            "---  ------         --------------  ----- \n",
            " 0   Product        180 non-null    object\n",
            " 1   Age            180 non-null    int64 \n",
            " 2   Gender         180 non-null    object\n",
            " 3   Education      180 non-null    int64 \n",
            " 4   MaritalStatus  180 non-null    object\n",
            " 5   Usage          180 non-null    int64 \n",
            " 6   Fitness        180 non-null    int64 \n",
            " 7   Income         180 non-null    int64 \n",
            " 8   Miles          180 non-null    int64 \n",
            "dtypes: int64(6), object(3)\n",
            "memory usage: 12.8+ KB\n"
          ]
        }
      ]
    },
    {
      "cell_type": "markdown",
      "metadata": {
        "id": "ApLrTBEEE1iF"
      },
      "source": [
        "Although the `info` function shows that every column has 180 non-null rows, we can still double-check to make sure there aren't any nulls that were missed."
      ]
    },
    {
      "cell_type": "code",
      "metadata": {
        "colab": {
          "base_uri": "https://localhost:8080/"
        },
        "id": "71K8lszFGtLx",
        "outputId": "8a59842c-f921-4e7d-f0d1-e504978f9145"
      },
      "source": [
        "# A trick I use often to show the percentage of null values in a column\n",
        "print(cardio.isna().mean().round(4) * 100)"
      ],
      "execution_count": 10,
      "outputs": [
        {
          "output_type": "stream",
          "name": "stdout",
          "text": [
            "Product          0.0\n",
            "Age              0.0\n",
            "Gender           0.0\n",
            "Education        0.0\n",
            "MaritalStatus    0.0\n",
            "Usage            0.0\n",
            "Fitness          0.0\n",
            "Income           0.0\n",
            "Miles            0.0\n",
            "dtype: float64\n"
          ]
        }
      ]
    },
    {
      "cell_type": "markdown",
      "metadata": {
        "id": "42g5QGHyHE5O"
      },
      "source": [
        "We can now see that there are 0.0% null values in every row."
      ]
    },
    {
      "cell_type": "markdown",
      "source": [
        "### Fixing the datatypes\n",
        "\n",
        "* All the variables are numeric and valid with the exception of the fitness rating which is a rank from 1 to 5. This feature can be converted to a categorical datatype along with the object type features to save memory space. "
      ],
      "metadata": {
        "id": "61jTwUVsli7U"
      }
    },
    {
      "cell_type": "code",
      "source": [
        "cat_cols = ['Product', 'Gender', 'MaritalStatus', 'Fitness']\n",
        "\n",
        "for column in cat_cols:\n",
        "    cardio[column]=cardio[column].astype('category')"
      ],
      "metadata": {
        "id": "h6xbIM1fle72"
      },
      "execution_count": 11,
      "outputs": []
    },
    {
      "cell_type": "code",
      "source": [
        "cardio.info()"
      ],
      "metadata": {
        "colab": {
          "base_uri": "https://localhost:8080/"
        },
        "id": "Lovpke74maTF",
        "outputId": "e1ab64bd-f612-4564-a67f-a66728af188b"
      },
      "execution_count": 12,
      "outputs": [
        {
          "output_type": "stream",
          "name": "stdout",
          "text": [
            "<class 'pandas.core.frame.DataFrame'>\n",
            "RangeIndex: 180 entries, 0 to 179\n",
            "Data columns (total 9 columns):\n",
            " #   Column         Non-Null Count  Dtype   \n",
            "---  ------         --------------  -----   \n",
            " 0   Product        180 non-null    category\n",
            " 1   Age            180 non-null    int64   \n",
            " 2   Gender         180 non-null    category\n",
            " 3   Education      180 non-null    int64   \n",
            " 4   MaritalStatus  180 non-null    category\n",
            " 5   Usage          180 non-null    int64   \n",
            " 6   Fitness        180 non-null    category\n",
            " 7   Income         180 non-null    int64   \n",
            " 8   Miles          180 non-null    int64   \n",
            "dtypes: category(4), int64(5)\n",
            "memory usage: 8.3 KB\n"
          ]
        }
      ]
    },
    {
      "cell_type": "markdown",
      "source": [
        "* The memory usage decreased from 12.8KB to 8.3KB. "
      ],
      "metadata": {
        "id": "SAIdeCxBqEKc"
      }
    },
    {
      "cell_type": "code",
      "metadata": {
        "colab": {
          "base_uri": "https://localhost:8080/",
          "height": 332
        },
        "id": "TPWHJpoyHS1J",
        "outputId": "98ca06e1-1861-432e-c1e1-2c8ebd066cfd"
      },
      "source": [
        "# Run basic stats on all the columns\n",
        "cardio.describe(include='all').T"
      ],
      "execution_count": 13,
      "outputs": [
        {
          "output_type": "execute_result",
          "data": {
            "text/html": [
              "\n",
              "  <div id=\"df-c01672bb-2cd9-4357-8220-b3749ad0b5bf\">\n",
              "    <div class=\"colab-df-container\">\n",
              "      <div>\n",
              "<style scoped>\n",
              "    .dataframe tbody tr th:only-of-type {\n",
              "        vertical-align: middle;\n",
              "    }\n",
              "\n",
              "    .dataframe tbody tr th {\n",
              "        vertical-align: top;\n",
              "    }\n",
              "\n",
              "    .dataframe thead th {\n",
              "        text-align: right;\n",
              "    }\n",
              "</style>\n",
              "<table border=\"1\" class=\"dataframe\">\n",
              "  <thead>\n",
              "    <tr style=\"text-align: right;\">\n",
              "      <th></th>\n",
              "      <th>count</th>\n",
              "      <th>unique</th>\n",
              "      <th>top</th>\n",
              "      <th>freq</th>\n",
              "      <th>mean</th>\n",
              "      <th>std</th>\n",
              "      <th>min</th>\n",
              "      <th>25%</th>\n",
              "      <th>50%</th>\n",
              "      <th>75%</th>\n",
              "      <th>max</th>\n",
              "    </tr>\n",
              "  </thead>\n",
              "  <tbody>\n",
              "    <tr>\n",
              "      <th>Product</th>\n",
              "      <td>180</td>\n",
              "      <td>3</td>\n",
              "      <td>TM195</td>\n",
              "      <td>80</td>\n",
              "      <td>NaN</td>\n",
              "      <td>NaN</td>\n",
              "      <td>NaN</td>\n",
              "      <td>NaN</td>\n",
              "      <td>NaN</td>\n",
              "      <td>NaN</td>\n",
              "      <td>NaN</td>\n",
              "    </tr>\n",
              "    <tr>\n",
              "      <th>Age</th>\n",
              "      <td>180</td>\n",
              "      <td>NaN</td>\n",
              "      <td>NaN</td>\n",
              "      <td>NaN</td>\n",
              "      <td>28.7889</td>\n",
              "      <td>6.9435</td>\n",
              "      <td>18</td>\n",
              "      <td>24</td>\n",
              "      <td>26</td>\n",
              "      <td>33</td>\n",
              "      <td>50</td>\n",
              "    </tr>\n",
              "    <tr>\n",
              "      <th>Gender</th>\n",
              "      <td>180</td>\n",
              "      <td>2</td>\n",
              "      <td>Male</td>\n",
              "      <td>104</td>\n",
              "      <td>NaN</td>\n",
              "      <td>NaN</td>\n",
              "      <td>NaN</td>\n",
              "      <td>NaN</td>\n",
              "      <td>NaN</td>\n",
              "      <td>NaN</td>\n",
              "      <td>NaN</td>\n",
              "    </tr>\n",
              "    <tr>\n",
              "      <th>Education</th>\n",
              "      <td>180</td>\n",
              "      <td>NaN</td>\n",
              "      <td>NaN</td>\n",
              "      <td>NaN</td>\n",
              "      <td>15.5722</td>\n",
              "      <td>1.61705</td>\n",
              "      <td>12</td>\n",
              "      <td>14</td>\n",
              "      <td>16</td>\n",
              "      <td>16</td>\n",
              "      <td>21</td>\n",
              "    </tr>\n",
              "    <tr>\n",
              "      <th>MaritalStatus</th>\n",
              "      <td>180</td>\n",
              "      <td>2</td>\n",
              "      <td>Partnered</td>\n",
              "      <td>107</td>\n",
              "      <td>NaN</td>\n",
              "      <td>NaN</td>\n",
              "      <td>NaN</td>\n",
              "      <td>NaN</td>\n",
              "      <td>NaN</td>\n",
              "      <td>NaN</td>\n",
              "      <td>NaN</td>\n",
              "    </tr>\n",
              "    <tr>\n",
              "      <th>Usage</th>\n",
              "      <td>180</td>\n",
              "      <td>NaN</td>\n",
              "      <td>NaN</td>\n",
              "      <td>NaN</td>\n",
              "      <td>3.45556</td>\n",
              "      <td>1.0848</td>\n",
              "      <td>2</td>\n",
              "      <td>3</td>\n",
              "      <td>3</td>\n",
              "      <td>4</td>\n",
              "      <td>7</td>\n",
              "    </tr>\n",
              "    <tr>\n",
              "      <th>Fitness</th>\n",
              "      <td>180</td>\n",
              "      <td>5</td>\n",
              "      <td>3</td>\n",
              "      <td>97</td>\n",
              "      <td>NaN</td>\n",
              "      <td>NaN</td>\n",
              "      <td>NaN</td>\n",
              "      <td>NaN</td>\n",
              "      <td>NaN</td>\n",
              "      <td>NaN</td>\n",
              "      <td>NaN</td>\n",
              "    </tr>\n",
              "    <tr>\n",
              "      <th>Income</th>\n",
              "      <td>180</td>\n",
              "      <td>NaN</td>\n",
              "      <td>NaN</td>\n",
              "      <td>NaN</td>\n",
              "      <td>53719.6</td>\n",
              "      <td>16506.7</td>\n",
              "      <td>29562</td>\n",
              "      <td>44058.8</td>\n",
              "      <td>50596.5</td>\n",
              "      <td>58668</td>\n",
              "      <td>104581</td>\n",
              "    </tr>\n",
              "    <tr>\n",
              "      <th>Miles</th>\n",
              "      <td>180</td>\n",
              "      <td>NaN</td>\n",
              "      <td>NaN</td>\n",
              "      <td>NaN</td>\n",
              "      <td>103.194</td>\n",
              "      <td>51.8636</td>\n",
              "      <td>21</td>\n",
              "      <td>66</td>\n",
              "      <td>94</td>\n",
              "      <td>114.75</td>\n",
              "      <td>360</td>\n",
              "    </tr>\n",
              "  </tbody>\n",
              "</table>\n",
              "</div>\n",
              "      <button class=\"colab-df-convert\" onclick=\"convertToInteractive('df-c01672bb-2cd9-4357-8220-b3749ad0b5bf')\"\n",
              "              title=\"Convert this dataframe to an interactive table.\"\n",
              "              style=\"display:none;\">\n",
              "        \n",
              "  <svg xmlns=\"http://www.w3.org/2000/svg\" height=\"24px\"viewBox=\"0 0 24 24\"\n",
              "       width=\"24px\">\n",
              "    <path d=\"M0 0h24v24H0V0z\" fill=\"none\"/>\n",
              "    <path d=\"M18.56 5.44l.94 2.06.94-2.06 2.06-.94-2.06-.94-.94-2.06-.94 2.06-2.06.94zm-11 1L8.5 8.5l.94-2.06 2.06-.94-2.06-.94L8.5 2.5l-.94 2.06-2.06.94zm10 10l.94 2.06.94-2.06 2.06-.94-2.06-.94-.94-2.06-.94 2.06-2.06.94z\"/><path d=\"M17.41 7.96l-1.37-1.37c-.4-.4-.92-.59-1.43-.59-.52 0-1.04.2-1.43.59L10.3 9.45l-7.72 7.72c-.78.78-.78 2.05 0 2.83L4 21.41c.39.39.9.59 1.41.59.51 0 1.02-.2 1.41-.59l7.78-7.78 2.81-2.81c.8-.78.8-2.07 0-2.86zM5.41 20L4 18.59l7.72-7.72 1.47 1.35L5.41 20z\"/>\n",
              "  </svg>\n",
              "      </button>\n",
              "      \n",
              "  <style>\n",
              "    .colab-df-container {\n",
              "      display:flex;\n",
              "      flex-wrap:wrap;\n",
              "      gap: 12px;\n",
              "    }\n",
              "\n",
              "    .colab-df-convert {\n",
              "      background-color: #E8F0FE;\n",
              "      border: none;\n",
              "      border-radius: 50%;\n",
              "      cursor: pointer;\n",
              "      display: none;\n",
              "      fill: #1967D2;\n",
              "      height: 32px;\n",
              "      padding: 0 0 0 0;\n",
              "      width: 32px;\n",
              "    }\n",
              "\n",
              "    .colab-df-convert:hover {\n",
              "      background-color: #E2EBFA;\n",
              "      box-shadow: 0px 1px 2px rgba(60, 64, 67, 0.3), 0px 1px 3px 1px rgba(60, 64, 67, 0.15);\n",
              "      fill: #174EA6;\n",
              "    }\n",
              "\n",
              "    [theme=dark] .colab-df-convert {\n",
              "      background-color: #3B4455;\n",
              "      fill: #D2E3FC;\n",
              "    }\n",
              "\n",
              "    [theme=dark] .colab-df-convert:hover {\n",
              "      background-color: #434B5C;\n",
              "      box-shadow: 0px 1px 3px 1px rgba(0, 0, 0, 0.15);\n",
              "      filter: drop-shadow(0px 1px 2px rgba(0, 0, 0, 0.3));\n",
              "      fill: #FFFFFF;\n",
              "    }\n",
              "  </style>\n",
              "\n",
              "      <script>\n",
              "        const buttonEl =\n",
              "          document.querySelector('#df-c01672bb-2cd9-4357-8220-b3749ad0b5bf button.colab-df-convert');\n",
              "        buttonEl.style.display =\n",
              "          google.colab.kernel.accessAllowed ? 'block' : 'none';\n",
              "\n",
              "        async function convertToInteractive(key) {\n",
              "          const element = document.querySelector('#df-c01672bb-2cd9-4357-8220-b3749ad0b5bf');\n",
              "          const dataTable =\n",
              "            await google.colab.kernel.invokeFunction('convertToInteractive',\n",
              "                                                     [key], {});\n",
              "          if (!dataTable) return;\n",
              "\n",
              "          const docLinkHtml = 'Like what you see? Visit the ' +\n",
              "            '<a target=\"_blank\" href=https://colab.research.google.com/notebooks/data_table.ipynb>data table notebook</a>'\n",
              "            + ' to learn more about interactive tables.';\n",
              "          element.innerHTML = '';\n",
              "          dataTable['output_type'] = 'display_data';\n",
              "          await google.colab.output.renderOutput(dataTable, element);\n",
              "          const docLink = document.createElement('div');\n",
              "          docLink.innerHTML = docLinkHtml;\n",
              "          element.appendChild(docLink);\n",
              "        }\n",
              "      </script>\n",
              "    </div>\n",
              "  </div>\n",
              "  "
            ],
            "text/plain": [
              "              count unique        top freq  ...      25%      50%     75%     max\n",
              "Product         180      3      TM195   80  ...      NaN      NaN     NaN     NaN\n",
              "Age             180    NaN        NaN  NaN  ...       24       26      33      50\n",
              "Gender          180      2       Male  104  ...      NaN      NaN     NaN     NaN\n",
              "Education       180    NaN        NaN  NaN  ...       14       16      16      21\n",
              "MaritalStatus   180      2  Partnered  107  ...      NaN      NaN     NaN     NaN\n",
              "Usage           180    NaN        NaN  NaN  ...        3        3       4       7\n",
              "Fitness         180      5          3   97  ...      NaN      NaN     NaN     NaN\n",
              "Income          180    NaN        NaN  NaN  ...  44058.8  50596.5   58668  104581\n",
              "Miles           180    NaN        NaN  NaN  ...       66       94  114.75     360\n",
              "\n",
              "[9 rows x 11 columns]"
            ]
          },
          "metadata": {},
          "execution_count": 13
        }
      ]
    },
    {
      "cell_type": "markdown",
      "metadata": {
        "id": "MsSphFPEHqnC"
      },
      "source": [
        "* The mean of `Age` is greater than the median which indicates the feature is right skewed. \n",
        "* `Education` and `Usage` appear normally distributed since the mean and median are approximately the same. \n",
        "* `Income` and `Miles` also appear to be right skewed given the mean is greater than the median. \n",
        "* Male is the most represented in the `Gender` variable.\n",
        "* The most frequent type for `MaritalStatus` is Partnered.\n",
        "* Rank 3 is the most common for the `Fitness` feature. "
      ]
    },
    {
      "cell_type": "markdown",
      "metadata": {
        "id": "J7wRpQG1_whc"
      },
      "source": [
        "## Univariate Data Analysis"
      ]
    },
    {
      "cell_type": "markdown",
      "metadata": {
        "id": "9pH0vfaw_wb0"
      },
      "source": [
        "With univariate analysis we observe individual variables to better understand he statistical makeup of the data such as central tendency and dispersion.   "
      ]
    },
    {
      "cell_type": "code",
      "metadata": {
        "colab": {
          "base_uri": "https://localhost:8080/"
        },
        "id": "DPzsChafLKda",
        "outputId": "3bd2c5c8-034a-4cba-f93d-d00f562c62c1"
      },
      "source": [
        "# Begin with visualizations by setting a color palette (this is something personal I wanted to do)\n",
        "sns.color_palette(\"mako\", as_cmap=True)"
      ],
      "execution_count": 14,
      "outputs": [
        {
          "output_type": "execute_result",
          "data": {
            "text/plain": [
              "<matplotlib.colors.ListedColormap at 0x7ff51e3af9d0>"
            ]
          },
          "metadata": {},
          "execution_count": 14
        }
      ]
    },
    {
      "cell_type": "markdown",
      "source": [
        "### Histogram and Boxplot Function"
      ],
      "metadata": {
        "id": "dQ89iUwI0c-t"
      }
    },
    {
      "cell_type": "code",
      "source": [
        "# This function takes the numerical column as the input and returns the boxplots \n",
        "# and histograms for the variable.\n",
        "# The boxplot and a histogram are along the same scale.\n",
        "\n",
        "\n",
        "def histogram_boxplot(data, feature, figsize=(12, 7), kde=False, bins=None):\n",
        "    \"\"\"\n",
        "    Boxplot on top of a histogram for numerical data\n",
        "\n",
        "    data: dataframe\n",
        "    feature: dataframe column\n",
        "    figsize: size of figure (default (12,7))\n",
        "    kde: whether to show the density curve (default False)\n",
        "    bins: number of bins for histogram (default None)\n",
        "    \"\"\"\n",
        "    f2, (ax_box2, ax_hist2) = plt.subplots(\n",
        "        nrows=2,  # Number of rows of the subplot grid= 2\n",
        "        sharex=True,  # x-axis will be shared among all subplots\n",
        "        gridspec_kw={\"height_ratios\": (0.25, 0.75)},\n",
        "        figsize=figsize,\n",
        "    )  # creating the 2 subplots\n",
        "    sns.boxplot(\n",
        "        data=data, x=feature, ax=ax_box2, showmeans=True, color=\"violet\"\n",
        "    )  # boxplot will be created and a star will indicate the mean value of the column\n",
        "    sns.histplot(\n",
        "        data=data, x=feature, kde=kde, ax=ax_hist2, bins=bins, palette=\"winter\"\n",
        "    ) if bins else sns.histplot(\n",
        "        data=data, x=feature, kde=kde, ax=ax_hist2\n",
        "    )  # For histogram\n",
        "    ax_hist2.axvline(\n",
        "        data[feature].mean(), color=\"green\", linestyle=\"--\"\n",
        "    )  # Add mean to the histogram\n",
        "    ax_hist2.axvline(\n",
        "        data[feature].median(), color=\"black\", linestyle=\"-\"\n",
        "    )  # Add median to the histogram"
      ],
      "metadata": {
        "id": "bR95X9XOouO3"
      },
      "execution_count": 15,
      "outputs": []
    },
    {
      "cell_type": "markdown",
      "source": [
        "### Age"
      ],
      "metadata": {
        "id": "7036lr4d0j-s"
      }
    },
    {
      "cell_type": "code",
      "metadata": {
        "colab": {
          "base_uri": "https://localhost:8080/",
          "height": 448
        },
        "id": "z38YyntzU58c",
        "outputId": "3fef30b7-ef5a-4755-adaa-f2fdc1db7213"
      },
      "source": [
        "histogram_boxplot(cardio, \"Age\")"
      ],
      "execution_count": 16,
      "outputs": [
        {
          "output_type": "display_data",
          "data": {
            "image/png": "[encoded data removed]",
            "text/plain": [
              "<Figure size 864x504 with 2 Axes>"
            ]
          },
          "metadata": {
            "needs_background": "light"
          }
        }
      ]
    },
    {
      "cell_type": "markdown",
      "metadata": {
        "id": "szRw7eaxa-mO"
      },
      "source": [
        "* `Age` is right skewed.\n",
        "* There are some clear outliers present.\n",
        "* Based on the boxplot, 75% of all the customers are 33 or younger. "
      ]
    },
    {
      "cell_type": "markdown",
      "source": [
        "### Income"
      ],
      "metadata": {
        "id": "Wy_AtgSB0mAY"
      }
    },
    {
      "cell_type": "code",
      "metadata": {
        "colab": {
          "base_uri": "https://localhost:8080/",
          "height": 448
        },
        "id": "EwGKSVmJwpXQ",
        "outputId": "d128d0ad-1c1d-406e-e501-a4b4928588c3"
      },
      "source": [
        "histogram_boxplot(cardio, \"Income\")"
      ],
      "execution_count": 17,
      "outputs": [
        {
          "output_type": "display_data",
          "data": {
            "image/png": "[encoded data removed]",
            "text/plain": [
              "<Figure size 864x504 with 2 Axes>"
            ]
          },
          "metadata": {
            "needs_background": "light"
          }
        }
      ]
    },
    {
      "cell_type": "markdown",
      "metadata": {
        "id": "-OZVO-utwwE2"
      },
      "source": [
        "* `Income` is right skewed.\n",
        "* The greatest number of customers fall between 50,000 to 60,000 dollars of annual income.\n",
        "* There are several outliers to the right of the mean. "
      ]
    },
    {
      "cell_type": "markdown",
      "source": [
        "### Education"
      ],
      "metadata": {
        "id": "a_dqnxJV0qqK"
      }
    },
    {
      "cell_type": "code",
      "source": [
        "histogram_boxplot(cardio, \"Education\")"
      ],
      "metadata": {
        "colab": {
          "base_uri": "https://localhost:8080/",
          "height": 448
        },
        "id": "0QMaeL38tAoU",
        "outputId": "17b8d541-58f0-42aa-f5b5-9e68f4f68229"
      },
      "execution_count": 18,
      "outputs": [
        {
          "output_type": "display_data",
          "data": {
            "image/png": "[encoded data removed]",
            "text/plain": [
              "<Figure size 864x504 with 2 Axes>"
            ]
          },
          "metadata": {
            "needs_background": "light"
          }
        }
      ]
    },
    {
      "cell_type": "markdown",
      "source": [
        "* There are a few outliers to the right of the mean.\n",
        "* The mean of `Education` is ~15.5 years of education."
      ],
      "metadata": {
        "id": "8l6ULTQCwLs7"
      }
    },
    {
      "cell_type": "markdown",
      "source": [
        "### Usage"
      ],
      "metadata": {
        "id": "5WtfGd-30tHV"
      }
    },
    {
      "cell_type": "code",
      "source": [
        "histogram_boxplot(cardio, \"Usage\")"
      ],
      "metadata": {
        "colab": {
          "base_uri": "https://localhost:8080/",
          "height": 448
        },
        "id": "wnzIJe-ttGf7",
        "outputId": "f1cc41d4-ca7b-4905-ca2f-50980fbd7fb6"
      },
      "execution_count": 19,
      "outputs": [
        {
          "output_type": "display_data",
          "data": {
            "image/png": "[encoded data removed]",
            "text/plain": [
              "<Figure size 864x504 with 2 Axes>"
            ]
          },
          "metadata": {
            "needs_background": "light"
          }
        }
      ]
    },
    {
      "cell_type": "markdown",
      "source": [
        "* On average, customers use the treadmills 3-4 times a week. \n",
        "* There are a few major outliers to the right of the mean. These customers use the treadmills 6 to 7 times a week. "
      ],
      "metadata": {
        "id": "R6EZ4NUJwMiS"
      }
    },
    {
      "cell_type": "markdown",
      "source": [
        "### Miles"
      ],
      "metadata": {
        "id": "7bwgIkHR0w0P"
      }
    },
    {
      "cell_type": "code",
      "source": [
        "histogram_boxplot(cardio, \"Miles\")"
      ],
      "metadata": {
        "colab": {
          "base_uri": "https://localhost:8080/",
          "height": 448
        },
        "id": "J_LGrklZtLA1",
        "outputId": "1adfe0be-c869-42f1-d1af-6564e0fe40e0"
      },
      "execution_count": 20,
      "outputs": [
        {
          "output_type": "display_data",
          "data": {
            "image/png": "[encoded data removed]",
            "text/plain": [
              "<Figure size 864x504 with 2 Axes>"
            ]
          },
          "metadata": {
            "needs_background": "light"
          }
        }
      ]
    },
    {
      "cell_type": "markdown",
      "source": [
        "* `Miles` is right skewed.\n",
        "* Customers expect to run around 100 miles on average each week. \n",
        "* There are some extreme outliers with some customers expecting to run 300-350 miles a week. This could be either a data quality issue or professional runners."
      ],
      "metadata": {
        "id": "0-cdcG2LwN6W"
      }
    },
    {
      "cell_type": "markdown",
      "source": [
        "### Labeled Barplot Function"
      ],
      "metadata": {
        "id": "c9YrhrhY02br"
      }
    },
    {
      "cell_type": "code",
      "source": [
        "# Fucntion to create labeled bar plots with percentages\n",
        "# for each categorical variable\n",
        "\n",
        "\n",
        "def labeled_barplot(data, feature, perc=False, n=None):\n",
        "    \"\"\"\n",
        "    Barplot with percentage at the top\n",
        "\n",
        "    data: dataframe\n",
        "    feature: dataframe column\n",
        "    perc: whether to display percentages instead of count (default is False)\n",
        "    n: displays the top n category levels (default is None, i.e., display all levels)\n",
        "    \"\"\"\n",
        "\n",
        "    total = len(data[feature])  # length of the column\n",
        "    count = data[feature].nunique()\n",
        "    if n is None:\n",
        "        plt.figure(figsize=(count + 1, 5))\n",
        "    else:\n",
        "        plt.figure(figsize=(n + 1, 5))\n",
        "\n",
        "    plt.xticks(rotation=90, fontsize=15)\n",
        "    ax = sns.countplot(\n",
        "        data=data,\n",
        "        x=feature,\n",
        "        palette=\"Paired\",\n",
        "        order=data[feature].value_counts().index[:n].sort_values(),\n",
        "    )\n",
        "\n",
        "    for p in ax.patches:\n",
        "        if perc == True:\n",
        "            label = \"{:.1f}%\".format(\n",
        "                100 * p.get_height() / total\n",
        "            )  # percentage of each class of the category\n",
        "        else:\n",
        "            label = p.get_height()  # count of each level of the category\n",
        "\n",
        "        x = p.get_x() + p.get_width() / 2  # width of the plot\n",
        "        y = p.get_height()  # height of the plot\n",
        "\n",
        "        ax.annotate(\n",
        "            label,\n",
        "            (x, y),\n",
        "            ha=\"center\",\n",
        "            va=\"center\",\n",
        "            size=12,\n",
        "            xytext=(0, 5),\n",
        "            textcoords=\"offset points\",\n",
        "        )  # annotate the percentage\n",
        "\n",
        "    plt.show()  # show the plot"
      ],
      "metadata": {
        "id": "3Tarh0tlsL7v"
      },
      "execution_count": 21,
      "outputs": []
    },
    {
      "cell_type": "markdown",
      "source": [
        "### Product"
      ],
      "metadata": {
        "id": "SeBDPkWf082Y"
      }
    },
    {
      "cell_type": "code",
      "source": [
        "labeled_barplot(cardio, \"Product\", perc=True)"
      ],
      "metadata": {
        "colab": {
          "base_uri": "https://localhost:8080/",
          "height": 380
        },
        "id": "1v8TYYnTz4DY",
        "outputId": "c9617b62-d404-4a3d-fa1d-8f0f8261f52c"
      },
      "execution_count": 22,
      "outputs": [
        {
          "output_type": "display_data",
          "data": {
            "image/png": "[encoded data removed]",
            "text/plain": [
              "<Figure size 288x360 with 1 Axes>"
            ]
          },
          "metadata": {
            "needs_background": "light"
          }
        }
      ]
    },
    {
      "cell_type": "markdown",
      "source": [
        "* Highest selling product is TM195 (44.%), followed by TM498 (33.3%), and TM798 (22.2%). "
      ],
      "metadata": {
        "id": "O3WQSVyXz77Y"
      }
    },
    {
      "cell_type": "markdown",
      "source": [
        "### Gender"
      ],
      "metadata": {
        "id": "v-V7ymAP0_Qh"
      }
    },
    {
      "cell_type": "code",
      "source": [
        "labeled_barplot(cardio, \"Gender\", perc=True)"
      ],
      "metadata": {
        "colab": {
          "base_uri": "https://localhost:8080/",
          "height": 384
        },
        "id": "i22Pa23oz8cl",
        "outputId": "e1bb8c7d-b9db-4a94-d984-ee761065fe37"
      },
      "execution_count": 23,
      "outputs": [
        {
          "output_type": "display_data",
          "data": {
            "image/png": "[encoded data removed]",
            "text/plain": [
              "<Figure size 216x360 with 1 Axes>"
            ]
          },
          "metadata": {
            "needs_background": "light"
          }
        }
      ]
    },
    {
      "cell_type": "markdown",
      "source": [
        "* There are more male customers (57.8%) than female customers (42.2%). "
      ],
      "metadata": {
        "id": "s3Tsud0a0BiH"
      }
    },
    {
      "cell_type": "markdown",
      "source": [
        "### MaritalStatus"
      ],
      "metadata": {
        "id": "g6jpp0F31BzE"
      }
    },
    {
      "cell_type": "code",
      "source": [
        "labeled_barplot(cardio, \"MaritalStatus\", perc=True)"
      ],
      "metadata": {
        "colab": {
          "base_uri": "https://localhost:8080/",
          "height": 403
        },
        "id": "v6-LRKgP0B2c",
        "outputId": "8c2c1b4c-b86e-4733-ec87-549c1af2d8d7"
      },
      "execution_count": 24,
      "outputs": [
        {
          "output_type": "display_data",
          "data": {
            "image/png": "[encoded data removed]",
            "text/plain": [
              "<Figure size 216x360 with 1 Axes>"
            ]
          },
          "metadata": {
            "needs_background": "light"
          }
        }
      ]
    },
    {
      "cell_type": "markdown",
      "source": [
        "* There are more customers who are Partnered (59.4%) than Single (40.6%). "
      ],
      "metadata": {
        "id": "1ea5l6td0Dfk"
      }
    },
    {
      "cell_type": "markdown",
      "source": [
        "### Fitness"
      ],
      "metadata": {
        "id": "3eNoAAd01E3s"
      }
    },
    {
      "cell_type": "code",
      "source": [
        "labeled_barplot(cardio, \"Fitness\", perc=True)"
      ],
      "metadata": {
        "colab": {
          "base_uri": "https://localhost:8080/",
          "height": 339
        },
        "id": "MU4BtOJZ0EE4",
        "outputId": "d43da463-0673-41cb-9012-e1f10a0bcb0d"
      },
      "execution_count": 25,
      "outputs": [
        {
          "output_type": "display_data",
          "data": {
            "image/png": "[encoded data removed]",
            "text/plain": [
              "<Figure size 432x360 with 1 Axes>"
            ]
          },
          "metadata": {
            "needs_background": "light"
          }
        }
      ]
    },
    {
      "cell_type": "markdown",
      "source": [
        "* Most of the customers rate themselves at a 3 (53.9%) on a scale from 1 to 5 (1 being the least fit and 5 being the most fit), and 5 as the second highest rating (17.2%). "
      ],
      "metadata": {
        "id": "tW4DjjhD0LDx"
      }
    },
    {
      "cell_type": "markdown",
      "source": [
        "### Education"
      ],
      "metadata": {
        "id": "GQK9QA6G1LOJ"
      }
    },
    {
      "cell_type": "code",
      "source": [
        "labeled_barplot(cardio, \"Education\", perc=True)"
      ],
      "metadata": {
        "colab": {
          "base_uri": "https://localhost:8080/",
          "height": 348
        },
        "id": "NeTIWUeV0KZ2",
        "outputId": "741b3e41-038b-4efb-d14a-a96068b4ec14"
      },
      "execution_count": 26,
      "outputs": [
        {
          "output_type": "display_data",
          "data": {
            "image/png": "[encoded data removed]",
            "text/plain": [
              "<Figure size 648x360 with 1 Axes>"
            ]
          },
          "metadata": {
            "needs_background": "light"
          }
        }
      ]
    },
    {
      "cell_type": "markdown",
      "source": [
        "* The largest group of education years is 16 (47.2%) followed by 14 years (47.2%). "
      ],
      "metadata": {
        "id": "pS3-8yvr1QUb"
      }
    },
    {
      "cell_type": "markdown",
      "source": [
        "### Usage"
      ],
      "metadata": {
        "id": "s632gT831Rmm"
      }
    },
    {
      "cell_type": "code",
      "source": [
        "labeled_barplot(cardio, \"Usage\", perc=True)"
      ],
      "metadata": {
        "colab": {
          "base_uri": "https://localhost:8080/",
          "height": 339
        },
        "id": "jhnyL4Cb1QoW",
        "outputId": "9cbc2ff4-167c-4ecf-d5ec-6e73fd4d7abc"
      },
      "execution_count": 27,
      "outputs": [
        {
          "output_type": "display_data",
          "data": {
            "image/png": "[encoded data removed]",
            "text/plain": [
              "<Figure size 504x360 with 1 Axes>"
            ]
          },
          "metadata": {
            "needs_background": "light"
          }
        }
      ]
    },
    {
      "cell_type": "markdown",
      "source": [
        "* Customers expect to use their treadmills on average 3 times a week (38.3%) followed by 4 times a week (28.9%)."
      ],
      "metadata": {
        "id": "4wzBve1H1X3u"
      }
    },
    {
      "cell_type": "markdown",
      "metadata": {
        "id": "1ztio6-p_wNs"
      },
      "source": [
        "## Bivariate Data Analysis"
      ]
    },
    {
      "cell_type": "markdown",
      "metadata": {
        "id": "AdYf6Iic_v90"
      },
      "source": [
        "### Correlation Statistics\n",
        "\n",
        "A correlation matrix displays a linear relationship between two variables in the form of a numerical value wich ranges from -1 to 1, negative which indicates a negative relationship and positive indicating a positive relationship. Although corrrelation does not necessarily establish causation, we can establish important relationsips among the variables to help understand how the two interact with respect to one another."
      ]
    },
    {
      "cell_type": "code",
      "metadata": {
        "colab": {
          "base_uri": "https://localhost:8080/",
          "height": 206
        },
        "id": "zX8-2Mn7L7q1",
        "outputId": "7a664658-8b03-4dd7-da27-919d4b545e95"
      },
      "source": [
        "# Creates a correlation matrix across all the columns\n",
        "cardio_corr = cardio.corr()\n",
        "cardio_corr"
      ],
      "execution_count": 28,
      "outputs": [
        {
          "output_type": "execute_result",
          "data": {
            "text/html": [
              "\n",
              "  <div id=\"df-05feec1a-5dea-4feb-ab9c-5e8fefd3b3b4\">\n",
              "    <div class=\"colab-df-container\">\n",
              "      <div>\n",
              "<style scoped>\n",
              "    .dataframe tbody tr th:only-of-type {\n",
              "        vertical-align: middle;\n",
              "    }\n",
              "\n",
              "    .dataframe tbody tr th {\n",
              "        vertical-align: top;\n",
              "    }\n",
              "\n",
              "    .dataframe thead th {\n",
              "        text-align: right;\n",
              "    }\n",
              "</style>\n",
              "<table border=\"1\" class=\"dataframe\">\n",
              "  <thead>\n",
              "    <tr style=\"text-align: right;\">\n",
              "      <th></th>\n",
              "      <th>Age</th>\n",
              "      <th>Education</th>\n",
              "      <th>Usage</th>\n",
              "      <th>Income</th>\n",
              "      <th>Miles</th>\n",
              "    </tr>\n",
              "  </thead>\n",
              "  <tbody>\n",
              "    <tr>\n",
              "      <th>Age</th>\n",
              "      <td>1.000000</td>\n",
              "      <td>0.280496</td>\n",
              "      <td>0.015064</td>\n",
              "      <td>0.513414</td>\n",
              "      <td>0.036618</td>\n",
              "    </tr>\n",
              "    <tr>\n",
              "      <th>Education</th>\n",
              "      <td>0.280496</td>\n",
              "      <td>1.000000</td>\n",
              "      <td>0.395155</td>\n",
              "      <td>0.625827</td>\n",
              "      <td>0.307284</td>\n",
              "    </tr>\n",
              "    <tr>\n",
              "      <th>Usage</th>\n",
              "      <td>0.015064</td>\n",
              "      <td>0.395155</td>\n",
              "      <td>1.000000</td>\n",
              "      <td>0.519537</td>\n",
              "      <td>0.759130</td>\n",
              "    </tr>\n",
              "    <tr>\n",
              "      <th>Income</th>\n",
              "      <td>0.513414</td>\n",
              "      <td>0.625827</td>\n",
              "      <td>0.519537</td>\n",
              "      <td>1.000000</td>\n",
              "      <td>0.543473</td>\n",
              "    </tr>\n",
              "    <tr>\n",
              "      <th>Miles</th>\n",
              "      <td>0.036618</td>\n",
              "      <td>0.307284</td>\n",
              "      <td>0.759130</td>\n",
              "      <td>0.543473</td>\n",
              "      <td>1.000000</td>\n",
              "    </tr>\n",
              "  </tbody>\n",
              "</table>\n",
              "</div>\n",
              "      <button class=\"colab-df-convert\" onclick=\"convertToInteractive('df-05feec1a-5dea-4feb-ab9c-5e8fefd3b3b4')\"\n",
              "              title=\"Convert this dataframe to an interactive table.\"\n",
              "              style=\"display:none;\">\n",
              "        \n",
              "  <svg xmlns=\"http://www.w3.org/2000/svg\" height=\"24px\"viewBox=\"0 0 24 24\"\n",
              "       width=\"24px\">\n",
              "    <path d=\"M0 0h24v24H0V0z\" fill=\"none\"/>\n",
              "    <path d=\"M18.56 5.44l.94 2.06.94-2.06 2.06-.94-2.06-.94-.94-2.06-.94 2.06-2.06.94zm-11 1L8.5 8.5l.94-2.06 2.06-.94-2.06-.94L8.5 2.5l-.94 2.06-2.06.94zm10 10l.94 2.06.94-2.06 2.06-.94-2.06-.94-.94-2.06-.94 2.06-2.06.94z\"/><path d=\"M17.41 7.96l-1.37-1.37c-.4-.4-.92-.59-1.43-.59-.52 0-1.04.2-1.43.59L10.3 9.45l-7.72 7.72c-.78.78-.78 2.05 0 2.83L4 21.41c.39.39.9.59 1.41.59.51 0 1.02-.2 1.41-.59l7.78-7.78 2.81-2.81c.8-.78.8-2.07 0-2.86zM5.41 20L4 18.59l7.72-7.72 1.47 1.35L5.41 20z\"/>\n",
              "  </svg>\n",
              "      </button>\n",
              "      \n",
              "  <style>\n",
              "    .colab-df-container {\n",
              "      display:flex;\n",
              "      flex-wrap:wrap;\n",
              "      gap: 12px;\n",
              "    }\n",
              "\n",
              "    .colab-df-convert {\n",
              "      background-color: #E8F0FE;\n",
              "      border: none;\n",
              "      border-radius: 50%;\n",
              "      cursor: pointer;\n",
              "      display: none;\n",
              "      fill: #1967D2;\n",
              "      height: 32px;\n",
              "      padding: 0 0 0 0;\n",
              "      width: 32px;\n",
              "    }\n",
              "\n",
              "    .colab-df-convert:hover {\n",
              "      background-color: #E2EBFA;\n",
              "      box-shadow: 0px 1px 2px rgba(60, 64, 67, 0.3), 0px 1px 3px 1px rgba(60, 64, 67, 0.15);\n",
              "      fill: #174EA6;\n",
              "    }\n",
              "\n",
              "    [theme=dark] .colab-df-convert {\n",
              "      background-color: #3B4455;\n",
              "      fill: #D2E3FC;\n",
              "    }\n",
              "\n",
              "    [theme=dark] .colab-df-convert:hover {\n",
              "      background-color: #434B5C;\n",
              "      box-shadow: 0px 1px 3px 1px rgba(0, 0, 0, 0.15);\n",
              "      filter: drop-shadow(0px 1px 2px rgba(0, 0, 0, 0.3));\n",
              "      fill: #FFFFFF;\n",
              "    }\n",
              "  </style>\n",
              "\n",
              "      <script>\n",
              "        const buttonEl =\n",
              "          document.querySelector('#df-05feec1a-5dea-4feb-ab9c-5e8fefd3b3b4 button.colab-df-convert');\n",
              "        buttonEl.style.display =\n",
              "          google.colab.kernel.accessAllowed ? 'block' : 'none';\n",
              "\n",
              "        async function convertToInteractive(key) {\n",
              "          const element = document.querySelector('#df-05feec1a-5dea-4feb-ab9c-5e8fefd3b3b4');\n",
              "          const dataTable =\n",
              "            await google.colab.kernel.invokeFunction('convertToInteractive',\n",
              "                                                     [key], {});\n",
              "          if (!dataTable) return;\n",
              "\n",
              "          const docLinkHtml = 'Like what you see? Visit the ' +\n",
              "            '<a target=\"_blank\" href=https://colab.research.google.com/notebooks/data_table.ipynb>data table notebook</a>'\n",
              "            + ' to learn more about interactive tables.';\n",
              "          element.innerHTML = '';\n",
              "          dataTable['output_type'] = 'display_data';\n",
              "          await google.colab.output.renderOutput(dataTable, element);\n",
              "          const docLink = document.createElement('div');\n",
              "          docLink.innerHTML = docLinkHtml;\n",
              "          element.appendChild(docLink);\n",
              "        }\n",
              "      </script>\n",
              "    </div>\n",
              "  </div>\n",
              "  "
            ],
            "text/plain": [
              "                Age  Education     Usage    Income     Miles\n",
              "Age        1.000000   0.280496  0.015064  0.513414  0.036618\n",
              "Education  0.280496   1.000000  0.395155  0.625827  0.307284\n",
              "Usage      0.015064   0.395155  1.000000  0.519537  0.759130\n",
              "Income     0.513414   0.625827  0.519537  1.000000  0.543473\n",
              "Miles      0.036618   0.307284  0.759130  0.543473  1.000000"
            ]
          },
          "metadata": {},
          "execution_count": 28
        }
      ]
    },
    {
      "cell_type": "markdown",
      "metadata": {
        "id": "K-J98nfyuEoj"
      },
      "source": [
        "* Postive correlation indicates the two variables move in the same direction, with 1 being a perfect positive correlation which means the variables always move in the same directon. \n",
        "* Negative correlation indicates that as one variable increases, the other variables decreases. A perfect negative correlation is represented by -1 which means the two always move in opposite directions. \n",
        "\n",
        "\n"
      ]
    },
    {
      "cell_type": "code",
      "metadata": {
        "colab": {
          "base_uri": "https://localhost:8080/",
          "height": 435
        },
        "id": "yNj3V4rbMAyC",
        "outputId": "013600fe-4111-4065-b235-072d76319ba1"
      },
      "source": [
        "# Set diverging color palette to make the visual more pleasing\n",
        "sns.color_palette(\"crest\", as_cmap=True)\n",
        "plt.figure(figsize=(15, 7))\n",
        "sns.heatmap(cardio_corr, annot=True, vmin=-1, vmax=1, fmt=\".2f\", cmap=\"coolwarm\")\n",
        "plt.show()"
      ],
      "execution_count": 29,
      "outputs": [
        {
          "output_type": "display_data",
          "data": {
            "image/png": "[encoded data removed]",
            "text/plain": [
              "<Figure size 1080x504 with 2 Axes>"
            ]
          },
          "metadata": {
            "needs_background": "light"
          }
        }
      ]
    },
    {
      "cell_type": "markdown",
      "source": [
        "* Slightly high positive correlation between `Income` and `Age` which is to be expected because typically as one ages they increase their income. \n",
        "* A high positive correaltion between `Income` and `Education` and seeems typical as more education typically leads to higher wages. \n",
        "* Very high positive corealtion between `Usage` and `Miles` which makes sense as one would be using the treadmill more and thus running more miles. \n",
        "`Income` appears to have a strong positive correaltion among all the other numric variables in the dataset. \n"
      ],
      "metadata": {
        "id": "XsLY5OtNFfyg"
      }
    },
    {
      "cell_type": "code",
      "source": [
        "sns.pairplot(data=cardio.drop([\"Fitness\"],axis=1),hue=\"Product\", diag_kind=\"kde\")\n",
        "plt.show()"
      ],
      "metadata": {
        "colab": {
          "base_uri": "https://localhost:8080/",
          "height": 903
        },
        "id": "St1mRzUf2iQy",
        "outputId": "55372505-3205-4edd-bfdc-1a349e201c77"
      },
      "execution_count": 30,
      "outputs": [
        {
          "output_type": "display_data",
          "data": {
            "image/png": "[encoded data removed]",
            "text/plain": [
              "<Figure size 976.85x900 with 30 Axes>"
            ]
          },
          "metadata": {
            "needs_background": "light"
          }
        }
      ]
    },
    {
      "cell_type": "markdown",
      "source": [
        "### Product and Age"
      ],
      "metadata": {
        "id": "6qdoPY4M4rfo"
      }
    },
    {
      "cell_type": "code",
      "source": [
        "plt.figure(figsize=(15,6))\n",
        "sns.boxplot(cardio[\"Product\"],cardio[\"Age\"],palette=\"cool\")\n",
        "plt.show()"
      ],
      "metadata": {
        "colab": {
          "base_uri": "https://localhost:8080/",
          "height": 394
        },
        "id": "yAemAUe44rUY",
        "outputId": "5c0e655a-200f-4cc5-cf5c-629f0cabe22c"
      },
      "execution_count": 38,
      "outputs": [
        {
          "output_type": "display_data",
          "data": {
            "image/png": "[encoded data removed]",
            "text/plain": [
              "<Figure size 1080x432 with 1 Axes>"
            ]
          },
          "metadata": {
            "needs_background": "light"
          }
        }
      ]
    },
    {
      "cell_type": "markdown",
      "source": [
        "* Product TM195 and TM498 have wider ranges in customer age than TM798 which has some higher aged outliers, but overall has a range between 22 and 37 years old. "
      ],
      "metadata": {
        "id": "3saIIRoX4zHL"
      }
    },
    {
      "cell_type": "markdown",
      "source": [
        "### Product and Education"
      ],
      "metadata": {
        "id": "Dhn6JvCdDs5N"
      }
    },
    {
      "cell_type": "code",
      "source": [
        "plt.figure(figsize=(15,6))\n",
        "sns.boxplot(cardio[\"Product\"],cardio[\"Education\"],palette=\"cool\")\n",
        "plt.show()"
      ],
      "metadata": {
        "colab": {
          "base_uri": "https://localhost:8080/",
          "height": 394
        },
        "id": "zMKvhrPJHEik",
        "outputId": "b2839c8d-a854-4d86-ece6-967da63af06f"
      },
      "execution_count": 31,
      "outputs": [
        {
          "output_type": "display_data",
          "data": {
            "image/png": "[encoded data removed]",
            "text/plain": [
              "<Figure size 1080x432 with 1 Axes>"
            ]
          },
          "metadata": {
            "needs_background": "light"
          }
        }
      ]
    },
    {
      "cell_type": "markdown",
      "source": [
        "* TM195 and TM498 customers have fewer years of education and mirror each other while TM798 customers have more years of education."
      ],
      "metadata": {
        "id": "HuYlVE8XHE4e"
      }
    },
    {
      "cell_type": "markdown",
      "source": [
        "### Product and Usage"
      ],
      "metadata": {
        "id": "_fJZISK6DssM"
      }
    },
    {
      "cell_type": "code",
      "source": [
        "plt.figure(figsize=(15,6))\n",
        "sns.boxplot(cardio[\"Product\"],cardio[\"Usage\"],palette=\"cool\")\n",
        "plt.show()"
      ],
      "metadata": {
        "colab": {
          "base_uri": "https://localhost:8080/",
          "height": 394
        },
        "id": "rZi4TIUfHGGJ",
        "outputId": "6e19aa88-cce8-4ad9-e026-c81516dbc3ad"
      },
      "execution_count": 32,
      "outputs": [
        {
          "output_type": "display_data",
          "data": {
            "image/png": "[encoded data removed]",
            "text/plain": [
              "<Figure size 1080x432 with 1 Axes>"
            ]
          },
          "metadata": {
            "needs_background": "light"
          }
        }
      ]
    },
    {
      "cell_type": "markdown",
      "source": [
        "* TM195 customers have an expected usage of 2 to 5 days, TM498 customers have an expected usage of just over 3 days with some outliers, and TM798 customers have the highest epected usage from 3 to 6 days. "
      ],
      "metadata": {
        "id": "lvon0YSPHGct"
      }
    },
    {
      "cell_type": "markdown",
      "source": [
        "### Product and Income"
      ],
      "metadata": {
        "id": "MHM2rratDszc"
      }
    },
    {
      "cell_type": "code",
      "source": [
        "plt.figure(figsize=(15,6))\n",
        "sns.boxplot(cardio[\"Product\"],cardio[\"Income\"],palette=\"cool\")\n",
        "plt.show()"
      ],
      "metadata": {
        "colab": {
          "base_uri": "https://localhost:8080/",
          "height": 394
        },
        "id": "USdHo_tTHHGd",
        "outputId": "a92008ff-7e02-48f6-969d-443c21a0d857"
      },
      "execution_count": 33,
      "outputs": [
        {
          "output_type": "display_data",
          "data": {
            "image/png": "[encoded data removed]",
            "text/plain": [
              "<Figure size 1080x432 with 1 Axes>"
            ]
          },
          "metadata": {
            "needs_background": "light"
          }
        }
      ]
    },
    {
      "cell_type": "markdown",
      "source": [
        "* TM195 customers have the lowest annual income with the mean around 45K annually, TM498 customers have a slightly higher income with mean near 50k, and finally TM798 customer shave th highest leve of income with the mean around 75k annually. "
      ],
      "metadata": {
        "id": "woLaI6iBHHbk"
      }
    },
    {
      "cell_type": "markdown",
      "source": [
        "### Product and Miles"
      ],
      "metadata": {
        "id": "Jv94_qniDsjA"
      }
    },
    {
      "cell_type": "code",
      "source": [
        "plt.figure(figsize=(15,6))\n",
        "sns.boxplot(cardio[\"Product\"],cardio[\"Miles\"],palette=\"cool\")\n",
        "plt.show()"
      ],
      "metadata": {
        "colab": {
          "base_uri": "https://localhost:8080/",
          "height": 394
        },
        "id": "rk8gOhIpHH5E",
        "outputId": "a2a805e4-33ce-4e99-d189-b071347a773d"
      },
      "execution_count": 34,
      "outputs": [
        {
          "output_type": "display_data",
          "data": {
            "image/png": "[encoded data removed]",
            "text/plain": [
              "<Figure size 1080x432 with 1 Axes>"
            ]
          },
          "metadata": {
            "needs_background": "light"
          }
        }
      ]
    },
    {
      "cell_type": "markdown",
      "source": [
        "* The product again appear ranked from right to left, with TM195 customers expected to run fewer miles at around 80 miles on average a week, TM498 customer expecting to run slightly more at around 85 miles a week on average, and finally TM798 customer expecting to run 155 miles on average each week. "
      ],
      "metadata": {
        "id": "5xeNGJF6HId0"
      }
    },
    {
      "cell_type": "markdown",
      "source": [
        "### Product Gender"
      ],
      "metadata": {
        "id": "njVncaLVDsZm"
      }
    },
    {
      "cell_type": "code",
      "source": [
        "plt.figure(figsize=(15,7))\n",
        "sns.countplot(cardio[\"Product\"],hue=cardio[\"Gender\"],palette='GnBu')\n",
        "plt.legend(bbox_to_anchor=(1.00, 1))\n",
        "plt.show()"
      ],
      "metadata": {
        "colab": {
          "base_uri": "https://localhost:8080/",
          "height": 448
        },
        "id": "kVwpt3u-HJBN",
        "outputId": "d402f786-b84e-4791-8350-c6d2061a3607"
      },
      "execution_count": 35,
      "outputs": [
        {
          "output_type": "display_data",
          "data": {
            "image/png": "[encoded data removed]",
            "text/plain": [
              "<Figure size 1080x504 with 1 Axes>"
            ]
          },
          "metadata": {
            "needs_background": "light"
          }
        }
      ]
    },
    {
      "cell_type": "markdown",
      "source": [
        "* The male to female ratio decreases from the TM195 to TM798 products, with TM798 have an overwhelmings majority of male customers. "
      ],
      "metadata": {
        "id": "6f6COcaJHJh-"
      }
    },
    {
      "cell_type": "markdown",
      "source": [
        "### Product and Marital Status"
      ],
      "metadata": {
        "id": "a-aSCHLfDsDO"
      }
    },
    {
      "cell_type": "code",
      "source": [
        "plt.figure(figsize=(15,7))\n",
        "sns.countplot(cardio[\"Product\"],hue=cardio[\"MaritalStatus\"],palette='RdBu')\n",
        "plt.legend(bbox_to_anchor=(1.00, 1))\n",
        "plt.show()"
      ],
      "metadata": {
        "colab": {
          "base_uri": "https://localhost:8080/",
          "height": 449
        },
        "id": "E98XRDtiHKD0",
        "outputId": "3429a0b7-2526-4d0e-8d5f-04d3eaa39497"
      },
      "execution_count": 36,
      "outputs": [
        {
          "output_type": "display_data",
          "data": {
            "image/png": "[encoded data removed]",
            "text/plain": [
              "<Figure size 1080x504 with 1 Axes>"
            ]
          },
          "metadata": {
            "needs_background": "light"
          }
        }
      ]
    },
    {
      "cell_type": "markdown",
      "source": [
        "* Partnered customers are more represented in every product category and suggests that customers with a partner may be more likely to purchase any line of product."
      ],
      "metadata": {
        "id": "Ng5a39cOHKZc"
      }
    },
    {
      "cell_type": "markdown",
      "source": [
        "### Product and Fitness"
      ],
      "metadata": {
        "id": "h28rXyJMDruG"
      }
    },
    {
      "cell_type": "code",
      "source": [
        "plt.figure(figsize=(15,7))\n",
        "sns.countplot(cardio[\"Product\"],hue=cardio[\"Fitness\"],palette='hsv_r')\n",
        "plt.legend(bbox_to_anchor=(1.00, 1))\n",
        "plt.show()"
      ],
      "metadata": {
        "colab": {
          "base_uri": "https://localhost:8080/",
          "height": 448
        },
        "id": "_3wjUPRlIJMJ",
        "outputId": "42df7300-294c-44ca-e43d-e533969cd025"
      },
      "execution_count": 37,
      "outputs": [
        {
          "output_type": "display_data",
          "data": {
            "image/png": "[encoded data removed]",
            "text/plain": [
              "<Figure size 1080x504 with 1 Axes>"
            ]
          },
          "metadata": {
            "needs_background": "light"
          }
        }
      ]
    },
    {
      "cell_type": "markdown",
      "source": [
        "* Customers who purchase the TM798 model rate themselves at the higher rank of 5 more than the other two models, while both customers who purchased the TM195 and TM498 ranked themselves more as a 3. "
      ],
      "metadata": {
        "id": "pRe1NOw8IJnR"
      }
    },
    {
      "cell_type": "markdown",
      "source": [
        "## Customer Segmentation"
      ],
      "metadata": {
        "id": "S6YpdsnUDASQ"
      }
    },
    {
      "cell_type": "code",
      "source": [
        "cardio[cardio[\"Product\"]==\"TM195\"].describe(include=\"all\").T"
      ],
      "metadata": {
        "colab": {
          "base_uri": "https://localhost:8080/",
          "height": 332
        },
        "id": "U3B587g3FmcU",
        "outputId": "1223484d-52a2-4613-bb3d-e52469b19b51"
      },
      "execution_count": 42,
      "outputs": [
        {
          "output_type": "execute_result",
          "data": {
            "text/html": [
              "\n",
              "  <div id=\"df-4ef73f9b-3a3c-469c-895d-f1e865acd75f\">\n",
              "    <div class=\"colab-df-container\">\n",
              "      <div>\n",
              "<style scoped>\n",
              "    .dataframe tbody tr th:only-of-type {\n",
              "        vertical-align: middle;\n",
              "    }\n",
              "\n",
              "    .dataframe tbody tr th {\n",
              "        vertical-align: top;\n",
              "    }\n",
              "\n",
              "    .dataframe thead th {\n",
              "        text-align: right;\n",
              "    }\n",
              "</style>\n",
              "<table border=\"1\" class=\"dataframe\">\n",
              "  <thead>\n",
              "    <tr style=\"text-align: right;\">\n",
              "      <th></th>\n",
              "      <th>count</th>\n",
              "      <th>unique</th>\n",
              "      <th>top</th>\n",
              "      <th>freq</th>\n",
              "      <th>mean</th>\n",
              "      <th>std</th>\n",
              "      <th>min</th>\n",
              "      <th>25%</th>\n",
              "      <th>50%</th>\n",
              "      <th>75%</th>\n",
              "      <th>max</th>\n",
              "    </tr>\n",
              "  </thead>\n",
              "  <tbody>\n",
              "    <tr>\n",
              "      <th>Product</th>\n",
              "      <td>80</td>\n",
              "      <td>1</td>\n",
              "      <td>TM195</td>\n",
              "      <td>80</td>\n",
              "      <td>NaN</td>\n",
              "      <td>NaN</td>\n",
              "      <td>NaN</td>\n",
              "      <td>NaN</td>\n",
              "      <td>NaN</td>\n",
              "      <td>NaN</td>\n",
              "      <td>NaN</td>\n",
              "    </tr>\n",
              "    <tr>\n",
              "      <th>Age</th>\n",
              "      <td>80</td>\n",
              "      <td>NaN</td>\n",
              "      <td>NaN</td>\n",
              "      <td>NaN</td>\n",
              "      <td>28.55</td>\n",
              "      <td>7.22145</td>\n",
              "      <td>18</td>\n",
              "      <td>23</td>\n",
              "      <td>26</td>\n",
              "      <td>33</td>\n",
              "      <td>50</td>\n",
              "    </tr>\n",
              "    <tr>\n",
              "      <th>Gender</th>\n",
              "      <td>80</td>\n",
              "      <td>2</td>\n",
              "      <td>Male</td>\n",
              "      <td>40</td>\n",
              "      <td>NaN</td>\n",
              "      <td>NaN</td>\n",
              "      <td>NaN</td>\n",
              "      <td>NaN</td>\n",
              "      <td>NaN</td>\n",
              "      <td>NaN</td>\n",
              "      <td>NaN</td>\n",
              "    </tr>\n",
              "    <tr>\n",
              "      <th>Education</th>\n",
              "      <td>80</td>\n",
              "      <td>NaN</td>\n",
              "      <td>NaN</td>\n",
              "      <td>NaN</td>\n",
              "      <td>15.0375</td>\n",
              "      <td>1.21638</td>\n",
              "      <td>12</td>\n",
              "      <td>14</td>\n",
              "      <td>16</td>\n",
              "      <td>16</td>\n",
              "      <td>18</td>\n",
              "    </tr>\n",
              "    <tr>\n",
              "      <th>MaritalStatus</th>\n",
              "      <td>80</td>\n",
              "      <td>2</td>\n",
              "      <td>Partnered</td>\n",
              "      <td>48</td>\n",
              "      <td>NaN</td>\n",
              "      <td>NaN</td>\n",
              "      <td>NaN</td>\n",
              "      <td>NaN</td>\n",
              "      <td>NaN</td>\n",
              "      <td>NaN</td>\n",
              "      <td>NaN</td>\n",
              "    </tr>\n",
              "    <tr>\n",
              "      <th>Usage</th>\n",
              "      <td>80</td>\n",
              "      <td>NaN</td>\n",
              "      <td>NaN</td>\n",
              "      <td>NaN</td>\n",
              "      <td>3.0875</td>\n",
              "      <td>0.782624</td>\n",
              "      <td>2</td>\n",
              "      <td>3</td>\n",
              "      <td>3</td>\n",
              "      <td>4</td>\n",
              "      <td>5</td>\n",
              "    </tr>\n",
              "    <tr>\n",
              "      <th>Fitness</th>\n",
              "      <td>80</td>\n",
              "      <td>5</td>\n",
              "      <td>3</td>\n",
              "      <td>54</td>\n",
              "      <td>NaN</td>\n",
              "      <td>NaN</td>\n",
              "      <td>NaN</td>\n",
              "      <td>NaN</td>\n",
              "      <td>NaN</td>\n",
              "      <td>NaN</td>\n",
              "      <td>NaN</td>\n",
              "    </tr>\n",
              "    <tr>\n",
              "      <th>Income</th>\n",
              "      <td>80</td>\n",
              "      <td>NaN</td>\n",
              "      <td>NaN</td>\n",
              "      <td>NaN</td>\n",
              "      <td>46418</td>\n",
              "      <td>9075.78</td>\n",
              "      <td>29562</td>\n",
              "      <td>38658</td>\n",
              "      <td>46617</td>\n",
              "      <td>53439</td>\n",
              "      <td>68220</td>\n",
              "    </tr>\n",
              "    <tr>\n",
              "      <th>Miles</th>\n",
              "      <td>80</td>\n",
              "      <td>NaN</td>\n",
              "      <td>NaN</td>\n",
              "      <td>NaN</td>\n",
              "      <td>82.7875</td>\n",
              "      <td>28.8741</td>\n",
              "      <td>38</td>\n",
              "      <td>66</td>\n",
              "      <td>85</td>\n",
              "      <td>94</td>\n",
              "      <td>188</td>\n",
              "    </tr>\n",
              "  </tbody>\n",
              "</table>\n",
              "</div>\n",
              "      <button class=\"colab-df-convert\" onclick=\"convertToInteractive('df-4ef73f9b-3a3c-469c-895d-f1e865acd75f')\"\n",
              "              title=\"Convert this dataframe to an interactive table.\"\n",
              "              style=\"display:none;\">\n",
              "        \n",
              "  <svg xmlns=\"http://www.w3.org/2000/svg\" height=\"24px\"viewBox=\"0 0 24 24\"\n",
              "       width=\"24px\">\n",
              "    <path d=\"M0 0h24v24H0V0z\" fill=\"none\"/>\n",
              "    <path d=\"M18.56 5.44l.94 2.06.94-2.06 2.06-.94-2.06-.94-.94-2.06-.94 2.06-2.06.94zm-11 1L8.5 8.5l.94-2.06 2.06-.94-2.06-.94L8.5 2.5l-.94 2.06-2.06.94zm10 10l.94 2.06.94-2.06 2.06-.94-2.06-.94-.94-2.06-.94 2.06-2.06.94z\"/><path d=\"M17.41 7.96l-1.37-1.37c-.4-.4-.92-.59-1.43-.59-.52 0-1.04.2-1.43.59L10.3 9.45l-7.72 7.72c-.78.78-.78 2.05 0 2.83L4 21.41c.39.39.9.59 1.41.59.51 0 1.02-.2 1.41-.59l7.78-7.78 2.81-2.81c.8-.78.8-2.07 0-2.86zM5.41 20L4 18.59l7.72-7.72 1.47 1.35L5.41 20z\"/>\n",
              "  </svg>\n",
              "      </button>\n",
              "      \n",
              "  <style>\n",
              "    .colab-df-container {\n",
              "      display:flex;\n",
              "      flex-wrap:wrap;\n",
              "      gap: 12px;\n",
              "    }\n",
              "\n",
              "    .colab-df-convert {\n",
              "      background-color: #E8F0FE;\n",
              "      border: none;\n",
              "      border-radius: 50%;\n",
              "      cursor: pointer;\n",
              "      display: none;\n",
              "      fill: #1967D2;\n",
              "      height: 32px;\n",
              "      padding: 0 0 0 0;\n",
              "      width: 32px;\n",
              "    }\n",
              "\n",
              "    .colab-df-convert:hover {\n",
              "      background-color: #E2EBFA;\n",
              "      box-shadow: 0px 1px 2px rgba(60, 64, 67, 0.3), 0px 1px 3px 1px rgba(60, 64, 67, 0.15);\n",
              "      fill: #174EA6;\n",
              "    }\n",
              "\n",
              "    [theme=dark] .colab-df-convert {\n",
              "      background-color: #3B4455;\n",
              "      fill: #D2E3FC;\n",
              "    }\n",
              "\n",
              "    [theme=dark] .colab-df-convert:hover {\n",
              "      background-color: #434B5C;\n",
              "      box-shadow: 0px 1px 3px 1px rgba(0, 0, 0, 0.15);\n",
              "      filter: drop-shadow(0px 1px 2px rgba(0, 0, 0, 0.3));\n",
              "      fill: #FFFFFF;\n",
              "    }\n",
              "  </style>\n",
              "\n",
              "      <script>\n",
              "        const buttonEl =\n",
              "          document.querySelector('#df-4ef73f9b-3a3c-469c-895d-f1e865acd75f button.colab-df-convert');\n",
              "        buttonEl.style.display =\n",
              "          google.colab.kernel.accessAllowed ? 'block' : 'none';\n",
              "\n",
              "        async function convertToInteractive(key) {\n",
              "          const element = document.querySelector('#df-4ef73f9b-3a3c-469c-895d-f1e865acd75f');\n",
              "          const dataTable =\n",
              "            await google.colab.kernel.invokeFunction('convertToInteractive',\n",
              "                                                     [key], {});\n",
              "          if (!dataTable) return;\n",
              "\n",
              "          const docLinkHtml = 'Like what you see? Visit the ' +\n",
              "            '<a target=\"_blank\" href=https://colab.research.google.com/notebooks/data_table.ipynb>data table notebook</a>'\n",
              "            + ' to learn more about interactive tables.';\n",
              "          element.innerHTML = '';\n",
              "          dataTable['output_type'] = 'display_data';\n",
              "          await google.colab.output.renderOutput(dataTable, element);\n",
              "          const docLink = document.createElement('div');\n",
              "          docLink.innerHTML = docLinkHtml;\n",
              "          element.appendChild(docLink);\n",
              "        }\n",
              "      </script>\n",
              "    </div>\n",
              "  </div>\n",
              "  "
            ],
            "text/plain": [
              "              count unique        top freq  ...    25%    50%    75%    max\n",
              "Product          80      1      TM195   80  ...    NaN    NaN    NaN    NaN\n",
              "Age              80    NaN        NaN  NaN  ...     23     26     33     50\n",
              "Gender           80      2       Male   40  ...    NaN    NaN    NaN    NaN\n",
              "Education        80    NaN        NaN  NaN  ...     14     16     16     18\n",
              "MaritalStatus    80      2  Partnered   48  ...    NaN    NaN    NaN    NaN\n",
              "Usage            80    NaN        NaN  NaN  ...      3      3      4      5\n",
              "Fitness          80      5          3   54  ...    NaN    NaN    NaN    NaN\n",
              "Income           80    NaN        NaN  NaN  ...  38658  46617  53439  68220\n",
              "Miles            80    NaN        NaN  NaN  ...     66     85     94    188\n",
              "\n",
              "[9 rows x 11 columns]"
            ]
          },
          "metadata": {},
          "execution_count": 42
        }
      ]
    },
    {
      "cell_type": "markdown",
      "source": [
        "#### TM195 Customers\n",
        "\n",
        "* This is the most sold product in the dataset\n",
        "* The average `Age` of the customer is 28\n",
        "* Males and Females are equally represented\n",
        "* Average years of `Education` is around 15 years\n",
        "* Most customers are partnered\n",
        "* Usage is ranked right in the middle at 3\n",
        "* `Fitness` is at ranke at 3 most frequently\n",
        "* `Income` is mostly around the range of 40k-50k"
      ],
      "metadata": {
        "id": "iwDqO1JyFn9z"
      }
    },
    {
      "cell_type": "code",
      "source": [
        "cardio[cardio[\"Product\"]==\"TM498\"].describe(include=\"all\").T"
      ],
      "metadata": {
        "colab": {
          "base_uri": "https://localhost:8080/",
          "height": 332
        },
        "id": "gCpHT95RFoPc",
        "outputId": "17c0aa5f-2c43-4e1e-d155-4b6bf37391f0"
      },
      "execution_count": 43,
      "outputs": [
        {
          "output_type": "execute_result",
          "data": {
            "text/html": [
              "\n",
              "  <div id=\"df-59bf79f8-3600-4d86-b39b-b0f6fbcd53c4\">\n",
              "    <div class=\"colab-df-container\">\n",
              "      <div>\n",
              "<style scoped>\n",
              "    .dataframe tbody tr th:only-of-type {\n",
              "        vertical-align: middle;\n",
              "    }\n",
              "\n",
              "    .dataframe tbody tr th {\n",
              "        vertical-align: top;\n",
              "    }\n",
              "\n",
              "    .dataframe thead th {\n",
              "        text-align: right;\n",
              "    }\n",
              "</style>\n",
              "<table border=\"1\" class=\"dataframe\">\n",
              "  <thead>\n",
              "    <tr style=\"text-align: right;\">\n",
              "      <th></th>\n",
              "      <th>count</th>\n",
              "      <th>unique</th>\n",
              "      <th>top</th>\n",
              "      <th>freq</th>\n",
              "      <th>mean</th>\n",
              "      <th>std</th>\n",
              "      <th>min</th>\n",
              "      <th>25%</th>\n",
              "      <th>50%</th>\n",
              "      <th>75%</th>\n",
              "      <th>max</th>\n",
              "    </tr>\n",
              "  </thead>\n",
              "  <tbody>\n",
              "    <tr>\n",
              "      <th>Product</th>\n",
              "      <td>60</td>\n",
              "      <td>1</td>\n",
              "      <td>TM498</td>\n",
              "      <td>60</td>\n",
              "      <td>NaN</td>\n",
              "      <td>NaN</td>\n",
              "      <td>NaN</td>\n",
              "      <td>NaN</td>\n",
              "      <td>NaN</td>\n",
              "      <td>NaN</td>\n",
              "      <td>NaN</td>\n",
              "    </tr>\n",
              "    <tr>\n",
              "      <th>Age</th>\n",
              "      <td>60</td>\n",
              "      <td>NaN</td>\n",
              "      <td>NaN</td>\n",
              "      <td>NaN</td>\n",
              "      <td>28.9</td>\n",
              "      <td>6.64525</td>\n",
              "      <td>19</td>\n",
              "      <td>24</td>\n",
              "      <td>26</td>\n",
              "      <td>33.25</td>\n",
              "      <td>48</td>\n",
              "    </tr>\n",
              "    <tr>\n",
              "      <th>Gender</th>\n",
              "      <td>60</td>\n",
              "      <td>2</td>\n",
              "      <td>Male</td>\n",
              "      <td>31</td>\n",
              "      <td>NaN</td>\n",
              "      <td>NaN</td>\n",
              "      <td>NaN</td>\n",
              "      <td>NaN</td>\n",
              "      <td>NaN</td>\n",
              "      <td>NaN</td>\n",
              "      <td>NaN</td>\n",
              "    </tr>\n",
              "    <tr>\n",
              "      <th>Education</th>\n",
              "      <td>60</td>\n",
              "      <td>NaN</td>\n",
              "      <td>NaN</td>\n",
              "      <td>NaN</td>\n",
              "      <td>15.1167</td>\n",
              "      <td>1.22255</td>\n",
              "      <td>12</td>\n",
              "      <td>14</td>\n",
              "      <td>16</td>\n",
              "      <td>16</td>\n",
              "      <td>18</td>\n",
              "    </tr>\n",
              "    <tr>\n",
              "      <th>MaritalStatus</th>\n",
              "      <td>60</td>\n",
              "      <td>2</td>\n",
              "      <td>Partnered</td>\n",
              "      <td>36</td>\n",
              "      <td>NaN</td>\n",
              "      <td>NaN</td>\n",
              "      <td>NaN</td>\n",
              "      <td>NaN</td>\n",
              "      <td>NaN</td>\n",
              "      <td>NaN</td>\n",
              "      <td>NaN</td>\n",
              "    </tr>\n",
              "    <tr>\n",
              "      <th>Usage</th>\n",
              "      <td>60</td>\n",
              "      <td>NaN</td>\n",
              "      <td>NaN</td>\n",
              "      <td>NaN</td>\n",
              "      <td>3.06667</td>\n",
              "      <td>0.799717</td>\n",
              "      <td>2</td>\n",
              "      <td>3</td>\n",
              "      <td>3</td>\n",
              "      <td>3.25</td>\n",
              "      <td>5</td>\n",
              "    </tr>\n",
              "    <tr>\n",
              "      <th>Fitness</th>\n",
              "      <td>60</td>\n",
              "      <td>4</td>\n",
              "      <td>3</td>\n",
              "      <td>39</td>\n",
              "      <td>NaN</td>\n",
              "      <td>NaN</td>\n",
              "      <td>NaN</td>\n",
              "      <td>NaN</td>\n",
              "      <td>NaN</td>\n",
              "      <td>NaN</td>\n",
              "      <td>NaN</td>\n",
              "    </tr>\n",
              "    <tr>\n",
              "      <th>Income</th>\n",
              "      <td>60</td>\n",
              "      <td>NaN</td>\n",
              "      <td>NaN</td>\n",
              "      <td>NaN</td>\n",
              "      <td>48973.7</td>\n",
              "      <td>8653.99</td>\n",
              "      <td>31836</td>\n",
              "      <td>44911.5</td>\n",
              "      <td>49459.5</td>\n",
              "      <td>53439</td>\n",
              "      <td>67083</td>\n",
              "    </tr>\n",
              "    <tr>\n",
              "      <th>Miles</th>\n",
              "      <td>60</td>\n",
              "      <td>NaN</td>\n",
              "      <td>NaN</td>\n",
              "      <td>NaN</td>\n",
              "      <td>87.9333</td>\n",
              "      <td>33.2631</td>\n",
              "      <td>21</td>\n",
              "      <td>64</td>\n",
              "      <td>85</td>\n",
              "      <td>106</td>\n",
              "      <td>212</td>\n",
              "    </tr>\n",
              "  </tbody>\n",
              "</table>\n",
              "</div>\n",
              "      <button class=\"colab-df-convert\" onclick=\"convertToInteractive('df-59bf79f8-3600-4d86-b39b-b0f6fbcd53c4')\"\n",
              "              title=\"Convert this dataframe to an interactive table.\"\n",
              "              style=\"display:none;\">\n",
              "        \n",
              "  <svg xmlns=\"http://www.w3.org/2000/svg\" height=\"24px\"viewBox=\"0 0 24 24\"\n",
              "       width=\"24px\">\n",
              "    <path d=\"M0 0h24v24H0V0z\" fill=\"none\"/>\n",
              "    <path d=\"M18.56 5.44l.94 2.06.94-2.06 2.06-.94-2.06-.94-.94-2.06-.94 2.06-2.06.94zm-11 1L8.5 8.5l.94-2.06 2.06-.94-2.06-.94L8.5 2.5l-.94 2.06-2.06.94zm10 10l.94 2.06.94-2.06 2.06-.94-2.06-.94-.94-2.06-.94 2.06-2.06.94z\"/><path d=\"M17.41 7.96l-1.37-1.37c-.4-.4-.92-.59-1.43-.59-.52 0-1.04.2-1.43.59L10.3 9.45l-7.72 7.72c-.78.78-.78 2.05 0 2.83L4 21.41c.39.39.9.59 1.41.59.51 0 1.02-.2 1.41-.59l7.78-7.78 2.81-2.81c.8-.78.8-2.07 0-2.86zM5.41 20L4 18.59l7.72-7.72 1.47 1.35L5.41 20z\"/>\n",
              "  </svg>\n",
              "      </button>\n",
              "      \n",
              "  <style>\n",
              "    .colab-df-container {\n",
              "      display:flex;\n",
              "      flex-wrap:wrap;\n",
              "      gap: 12px;\n",
              "    }\n",
              "\n",
              "    .colab-df-convert {\n",
              "      background-color: #E8F0FE;\n",
              "      border: none;\n",
              "      border-radius: 50%;\n",
              "      cursor: pointer;\n",
              "      display: none;\n",
              "      fill: #1967D2;\n",
              "      height: 32px;\n",
              "      padding: 0 0 0 0;\n",
              "      width: 32px;\n",
              "    }\n",
              "\n",
              "    .colab-df-convert:hover {\n",
              "      background-color: #E2EBFA;\n",
              "      box-shadow: 0px 1px 2px rgba(60, 64, 67, 0.3), 0px 1px 3px 1px rgba(60, 64, 67, 0.15);\n",
              "      fill: #174EA6;\n",
              "    }\n",
              "\n",
              "    [theme=dark] .colab-df-convert {\n",
              "      background-color: #3B4455;\n",
              "      fill: #D2E3FC;\n",
              "    }\n",
              "\n",
              "    [theme=dark] .colab-df-convert:hover {\n",
              "      background-color: #434B5C;\n",
              "      box-shadow: 0px 1px 3px 1px rgba(0, 0, 0, 0.15);\n",
              "      filter: drop-shadow(0px 1px 2px rgba(0, 0, 0, 0.3));\n",
              "      fill: #FFFFFF;\n",
              "    }\n",
              "  </style>\n",
              "\n",
              "      <script>\n",
              "        const buttonEl =\n",
              "          document.querySelector('#df-59bf79f8-3600-4d86-b39b-b0f6fbcd53c4 button.colab-df-convert');\n",
              "        buttonEl.style.display =\n",
              "          google.colab.kernel.accessAllowed ? 'block' : 'none';\n",
              "\n",
              "        async function convertToInteractive(key) {\n",
              "          const element = document.querySelector('#df-59bf79f8-3600-4d86-b39b-b0f6fbcd53c4');\n",
              "          const dataTable =\n",
              "            await google.colab.kernel.invokeFunction('convertToInteractive',\n",
              "                                                     [key], {});\n",
              "          if (!dataTable) return;\n",
              "\n",
              "          const docLinkHtml = 'Like what you see? Visit the ' +\n",
              "            '<a target=\"_blank\" href=https://colab.research.google.com/notebooks/data_table.ipynb>data table notebook</a>'\n",
              "            + ' to learn more about interactive tables.';\n",
              "          element.innerHTML = '';\n",
              "          dataTable['output_type'] = 'display_data';\n",
              "          await google.colab.output.renderOutput(dataTable, element);\n",
              "          const docLink = document.createElement('div');\n",
              "          docLink.innerHTML = docLinkHtml;\n",
              "          element.appendChild(docLink);\n",
              "        }\n",
              "      </script>\n",
              "    </div>\n",
              "  </div>\n",
              "  "
            ],
            "text/plain": [
              "              count unique        top freq  ...      25%      50%    75%    max\n",
              "Product          60      1      TM498   60  ...      NaN      NaN    NaN    NaN\n",
              "Age              60    NaN        NaN  NaN  ...       24       26  33.25     48\n",
              "Gender           60      2       Male   31  ...      NaN      NaN    NaN    NaN\n",
              "Education        60    NaN        NaN  NaN  ...       14       16     16     18\n",
              "MaritalStatus    60      2  Partnered   36  ...      NaN      NaN    NaN    NaN\n",
              "Usage            60    NaN        NaN  NaN  ...        3        3   3.25      5\n",
              "Fitness          60      4          3   39  ...      NaN      NaN    NaN    NaN\n",
              "Income           60    NaN        NaN  NaN  ...  44911.5  49459.5  53439  67083\n",
              "Miles            60    NaN        NaN  NaN  ...       64       85    106    212\n",
              "\n",
              "[9 rows x 11 columns]"
            ]
          },
          "metadata": {},
          "execution_count": 43
        }
      ]
    },
    {
      "cell_type": "markdown",
      "source": [
        "#### TM498 Customers\n",
        "\n",
        "* The second most sold product in the dataset\n",
        "* `Age` averages around 29 years old\n",
        "* `Gender` slightly leans more towards male\n",
        "* `Education` years is like the TM195 model, averaging around 15 years\n",
        "* Customers are still slightly more partnered for the TM498 model \n",
        "* `Usage` is still closer to the rank of 3 on average\n",
        "* `Fitness` is mostly at the rank of 3\n",
        "* `Income` is slightly higher on average than the TM195 model\n",
        "* Expected miles is slightly higher than the TM195 model"
      ],
      "metadata": {
        "id": "48WdzroCFrU1"
      }
    },
    {
      "cell_type": "code",
      "source": [
        "cardio[cardio[\"Product\"]==\"TM798\"].describe(include=\"all\").T"
      ],
      "metadata": {
        "colab": {
          "base_uri": "https://localhost:8080/",
          "height": 332
        },
        "id": "ojNQsrp0FrxB",
        "outputId": "94d9eb25-7245-43a0-8c88-6482ea3bab8c"
      },
      "execution_count": 44,
      "outputs": [
        {
          "output_type": "execute_result",
          "data": {
            "text/html": [
              "\n",
              "  <div id=\"df-a4ea08b6-2a4a-4c0a-925b-bba1919bc582\">\n",
              "    <div class=\"colab-df-container\">\n",
              "      <div>\n",
              "<style scoped>\n",
              "    .dataframe tbody tr th:only-of-type {\n",
              "        vertical-align: middle;\n",
              "    }\n",
              "\n",
              "    .dataframe tbody tr th {\n",
              "        vertical-align: top;\n",
              "    }\n",
              "\n",
              "    .dataframe thead th {\n",
              "        text-align: right;\n",
              "    }\n",
              "</style>\n",
              "<table border=\"1\" class=\"dataframe\">\n",
              "  <thead>\n",
              "    <tr style=\"text-align: right;\">\n",
              "      <th></th>\n",
              "      <th>count</th>\n",
              "      <th>unique</th>\n",
              "      <th>top</th>\n",
              "      <th>freq</th>\n",
              "      <th>mean</th>\n",
              "      <th>std</th>\n",
              "      <th>min</th>\n",
              "      <th>25%</th>\n",
              "      <th>50%</th>\n",
              "      <th>75%</th>\n",
              "      <th>max</th>\n",
              "    </tr>\n",
              "  </thead>\n",
              "  <tbody>\n",
              "    <tr>\n",
              "      <th>Product</th>\n",
              "      <td>40</td>\n",
              "      <td>1</td>\n",
              "      <td>TM798</td>\n",
              "      <td>40</td>\n",
              "      <td>NaN</td>\n",
              "      <td>NaN</td>\n",
              "      <td>NaN</td>\n",
              "      <td>NaN</td>\n",
              "      <td>NaN</td>\n",
              "      <td>NaN</td>\n",
              "      <td>NaN</td>\n",
              "    </tr>\n",
              "    <tr>\n",
              "      <th>Age</th>\n",
              "      <td>40</td>\n",
              "      <td>NaN</td>\n",
              "      <td>NaN</td>\n",
              "      <td>NaN</td>\n",
              "      <td>29.1</td>\n",
              "      <td>6.97174</td>\n",
              "      <td>22</td>\n",
              "      <td>24.75</td>\n",
              "      <td>27</td>\n",
              "      <td>30.25</td>\n",
              "      <td>48</td>\n",
              "    </tr>\n",
              "    <tr>\n",
              "      <th>Gender</th>\n",
              "      <td>40</td>\n",
              "      <td>2</td>\n",
              "      <td>Male</td>\n",
              "      <td>33</td>\n",
              "      <td>NaN</td>\n",
              "      <td>NaN</td>\n",
              "      <td>NaN</td>\n",
              "      <td>NaN</td>\n",
              "      <td>NaN</td>\n",
              "      <td>NaN</td>\n",
              "      <td>NaN</td>\n",
              "    </tr>\n",
              "    <tr>\n",
              "      <th>Education</th>\n",
              "      <td>40</td>\n",
              "      <td>NaN</td>\n",
              "      <td>NaN</td>\n",
              "      <td>NaN</td>\n",
              "      <td>17.325</td>\n",
              "      <td>1.63907</td>\n",
              "      <td>14</td>\n",
              "      <td>16</td>\n",
              "      <td>18</td>\n",
              "      <td>18</td>\n",
              "      <td>21</td>\n",
              "    </tr>\n",
              "    <tr>\n",
              "      <th>MaritalStatus</th>\n",
              "      <td>40</td>\n",
              "      <td>2</td>\n",
              "      <td>Partnered</td>\n",
              "      <td>23</td>\n",
              "      <td>NaN</td>\n",
              "      <td>NaN</td>\n",
              "      <td>NaN</td>\n",
              "      <td>NaN</td>\n",
              "      <td>NaN</td>\n",
              "      <td>NaN</td>\n",
              "      <td>NaN</td>\n",
              "    </tr>\n",
              "    <tr>\n",
              "      <th>Usage</th>\n",
              "      <td>40</td>\n",
              "      <td>NaN</td>\n",
              "      <td>NaN</td>\n",
              "      <td>NaN</td>\n",
              "      <td>4.775</td>\n",
              "      <td>0.946993</td>\n",
              "      <td>3</td>\n",
              "      <td>4</td>\n",
              "      <td>5</td>\n",
              "      <td>5</td>\n",
              "      <td>7</td>\n",
              "    </tr>\n",
              "    <tr>\n",
              "      <th>Fitness</th>\n",
              "      <td>40</td>\n",
              "      <td>3</td>\n",
              "      <td>5</td>\n",
              "      <td>29</td>\n",
              "      <td>NaN</td>\n",
              "      <td>NaN</td>\n",
              "      <td>NaN</td>\n",
              "      <td>NaN</td>\n",
              "      <td>NaN</td>\n",
              "      <td>NaN</td>\n",
              "      <td>NaN</td>\n",
              "    </tr>\n",
              "    <tr>\n",
              "      <th>Income</th>\n",
              "      <td>40</td>\n",
              "      <td>NaN</td>\n",
              "      <td>NaN</td>\n",
              "      <td>NaN</td>\n",
              "      <td>75441.6</td>\n",
              "      <td>18505.8</td>\n",
              "      <td>48556</td>\n",
              "      <td>58204.8</td>\n",
              "      <td>76568.5</td>\n",
              "      <td>90886</td>\n",
              "      <td>104581</td>\n",
              "    </tr>\n",
              "    <tr>\n",
              "      <th>Miles</th>\n",
              "      <td>40</td>\n",
              "      <td>NaN</td>\n",
              "      <td>NaN</td>\n",
              "      <td>NaN</td>\n",
              "      <td>166.9</td>\n",
              "      <td>60.0665</td>\n",
              "      <td>80</td>\n",
              "      <td>120</td>\n",
              "      <td>160</td>\n",
              "      <td>200</td>\n",
              "      <td>360</td>\n",
              "    </tr>\n",
              "  </tbody>\n",
              "</table>\n",
              "</div>\n",
              "      <button class=\"colab-df-convert\" onclick=\"convertToInteractive('df-a4ea08b6-2a4a-4c0a-925b-bba1919bc582')\"\n",
              "              title=\"Convert this dataframe to an interactive table.\"\n",
              "              style=\"display:none;\">\n",
              "        \n",
              "  <svg xmlns=\"http://www.w3.org/2000/svg\" height=\"24px\"viewBox=\"0 0 24 24\"\n",
              "       width=\"24px\">\n",
              "    <path d=\"M0 0h24v24H0V0z\" fill=\"none\"/>\n",
              "    <path d=\"M18.56 5.44l.94 2.06.94-2.06 2.06-.94-2.06-.94-.94-2.06-.94 2.06-2.06.94zm-11 1L8.5 8.5l.94-2.06 2.06-.94-2.06-.94L8.5 2.5l-.94 2.06-2.06.94zm10 10l.94 2.06.94-2.06 2.06-.94-2.06-.94-.94-2.06-.94 2.06-2.06.94z\"/><path d=\"M17.41 7.96l-1.37-1.37c-.4-.4-.92-.59-1.43-.59-.52 0-1.04.2-1.43.59L10.3 9.45l-7.72 7.72c-.78.78-.78 2.05 0 2.83L4 21.41c.39.39.9.59 1.41.59.51 0 1.02-.2 1.41-.59l7.78-7.78 2.81-2.81c.8-.78.8-2.07 0-2.86zM5.41 20L4 18.59l7.72-7.72 1.47 1.35L5.41 20z\"/>\n",
              "  </svg>\n",
              "      </button>\n",
              "      \n",
              "  <style>\n",
              "    .colab-df-container {\n",
              "      display:flex;\n",
              "      flex-wrap:wrap;\n",
              "      gap: 12px;\n",
              "    }\n",
              "\n",
              "    .colab-df-convert {\n",
              "      background-color: #E8F0FE;\n",
              "      border: none;\n",
              "      border-radius: 50%;\n",
              "      cursor: pointer;\n",
              "      display: none;\n",
              "      fill: #1967D2;\n",
              "      height: 32px;\n",
              "      padding: 0 0 0 0;\n",
              "      width: 32px;\n",
              "    }\n",
              "\n",
              "    .colab-df-convert:hover {\n",
              "      background-color: #E2EBFA;\n",
              "      box-shadow: 0px 1px 2px rgba(60, 64, 67, 0.3), 0px 1px 3px 1px rgba(60, 64, 67, 0.15);\n",
              "      fill: #174EA6;\n",
              "    }\n",
              "\n",
              "    [theme=dark] .colab-df-convert {\n",
              "      background-color: #3B4455;\n",
              "      fill: #D2E3FC;\n",
              "    }\n",
              "\n",
              "    [theme=dark] .colab-df-convert:hover {\n",
              "      background-color: #434B5C;\n",
              "      box-shadow: 0px 1px 3px 1px rgba(0, 0, 0, 0.15);\n",
              "      filter: drop-shadow(0px 1px 2px rgba(0, 0, 0, 0.3));\n",
              "      fill: #FFFFFF;\n",
              "    }\n",
              "  </style>\n",
              "\n",
              "      <script>\n",
              "        const buttonEl =\n",
              "          document.querySelector('#df-a4ea08b6-2a4a-4c0a-925b-bba1919bc582 button.colab-df-convert');\n",
              "        buttonEl.style.display =\n",
              "          google.colab.kernel.accessAllowed ? 'block' : 'none';\n",
              "\n",
              "        async function convertToInteractive(key) {\n",
              "          const element = document.querySelector('#df-a4ea08b6-2a4a-4c0a-925b-bba1919bc582');\n",
              "          const dataTable =\n",
              "            await google.colab.kernel.invokeFunction('convertToInteractive',\n",
              "                                                     [key], {});\n",
              "          if (!dataTable) return;\n",
              "\n",
              "          const docLinkHtml = 'Like what you see? Visit the ' +\n",
              "            '<a target=\"_blank\" href=https://colab.research.google.com/notebooks/data_table.ipynb>data table notebook</a>'\n",
              "            + ' to learn more about interactive tables.';\n",
              "          element.innerHTML = '';\n",
              "          dataTable['output_type'] = 'display_data';\n",
              "          await google.colab.output.renderOutput(dataTable, element);\n",
              "          const docLink = document.createElement('div');\n",
              "          docLink.innerHTML = docLinkHtml;\n",
              "          element.appendChild(docLink);\n",
              "        }\n",
              "      </script>\n",
              "    </div>\n",
              "  </div>\n",
              "  "
            ],
            "text/plain": [
              "              count unique        top freq  ...      25%      50%    75%     max\n",
              "Product          40      1      TM798   40  ...      NaN      NaN    NaN     NaN\n",
              "Age              40    NaN        NaN  NaN  ...    24.75       27  30.25      48\n",
              "Gender           40      2       Male   33  ...      NaN      NaN    NaN     NaN\n",
              "Education        40    NaN        NaN  NaN  ...       16       18     18      21\n",
              "MaritalStatus    40      2  Partnered   23  ...      NaN      NaN    NaN     NaN\n",
              "Usage            40    NaN        NaN  NaN  ...        4        5      5       7\n",
              "Fitness          40      3          5   29  ...      NaN      NaN    NaN     NaN\n",
              "Income           40    NaN        NaN  NaN  ...  58204.8  76568.5  90886  104581\n",
              "Miles            40    NaN        NaN  NaN  ...      120      160    200     360\n",
              "\n",
              "[9 rows x 11 columns]"
            ]
          },
          "metadata": {},
          "execution_count": 44
        }
      ]
    },
    {
      "cell_type": "markdown",
      "source": [
        "#### TM798 Customers\n",
        "\n",
        "* The TM798 model is the least sold product in the dataset\n",
        "* Males represent far more of the `Gender` variable than the two other products\n",
        "* `Education` is higher for the TM798 model than the other two\n",
        "* `Usage` is higher for the TM798 model\n",
        "* `Fitness` is higher ranked among this product\n",
        "* `Income` is also higher on average and overall for the TM798 model\n",
        "* Expected `Miles` are higher than the other two models"
      ],
      "metadata": {
        "id": "9lAJpZ4fFubj"
      }
    },
    {
      "cell_type": "markdown",
      "source": [
        "## Conclusion"
      ],
      "metadata": {
        "id": "nzee6mzhDLJu"
      }
    },
    {
      "cell_type": "markdown",
      "metadata": {
        "id": "eW2LynJK0tVY"
      },
      "source": [
        "### Key Insights\n",
        "\n",
        "#### TM195: \n",
        "\n",
        "* The product appears to be the more affordable line of treadmill that has a fairly wide range of users.\n",
        "\n",
        "* This line of treadmill is purcahsed more by entry-level runners who are also on the lower end of age and income. \n",
        "\n",
        "* These customers expect to use the treadmill less each week and run fewer miles than the higher end products. \n",
        "\n",
        "#### TM495: \n",
        "\n",
        "* This model appears to be he mid-tier product with slightly more features than the TM195 but fewer than the TM798.  \n",
        "\n",
        "* Customer of this slightly upgraded product have similar age demographic as the TM195 model but with a sligthly higher income.  \n",
        "\n",
        "* Customers of this model expect to use the treadmill the same amount as the TM195 customers, but expect to run slightly more miles each week. \n",
        "\n",
        "\n",
        "#### TM798: \n",
        "\n",
        "* This treadmill appears to be the top of the line product with more features than the previous too.  \n",
        "\n",
        "* The customers of this product rank themselves higher in fitness and expect to run more often throughout the week and log more miles each week. \n",
        "\n",
        "* The customer income and education is higher for this product which reninforces the notion that it is likely the most expensive model. \n",
        "\n",
        "* Male customers prefer this treadmill far more than female customers."
      ]
    },
    {
      "cell_type": "markdown",
      "metadata": {
        "id": "QhZZ-VzG2HTj"
      },
      "source": [
        "### Business Recommendations \n",
        "\n",
        "#### TM195:\n",
        "\n",
        "* The company can market its most affordable product, the TM195, to a varied demogaphic of customers. Since it is likely more affordable, it will require more sales and the strategy of selling to as broad a demographic of customers is paramount. \n",
        "\n",
        "* This model is preferred by those with a lower level of fitness and expecting to run less often and fewer miles each. Given this information, this product to be marketed to more novice runners and those looking to start running or beginning to exercise. \n",
        "\n",
        "#### TM498: \n",
        "\n",
        "* Since this treadmill is likely the mid-tier product, the strategy for this model will need to be unique given the circumstances. The main differences between these customers and the TM195 customers is that they exercise slightly more and have a slightly higher income.\n",
        "\n",
        "* Given the information avaialble from the data, the best strategy to market this product would be as an upgrade to existing customers who have already established an exercise routine. Since the TM498 model likely has some upgraded features from the TM195 mocel, apresenting these better features to TM195 customers may excite them to upgrade their treadmill. \n",
        "\n",
        "#### TM798: \n",
        "\n",
        "* This is likely the most expensive model of treadmill and more features so it should be marketed to higher income individuals who also have more years of education. Given the added features and the customers' expectations for running more and their fitness level, the more experienced runners should be targeted with this model. \n"
      ]
    }
  ]
}